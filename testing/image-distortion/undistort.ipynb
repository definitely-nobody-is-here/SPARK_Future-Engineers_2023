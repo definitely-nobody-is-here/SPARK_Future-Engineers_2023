{
 "cells": [
  {
   "cell_type": "code",
   "execution_count": 1,
   "metadata": {},
   "outputs": [
    {
     "name": "stdout",
     "output_type": "stream",
     "text": [
      "getting points from ./calibration-contrasty\\1689110378692-f.png\n",
      "1\n",
      "1\n",
      "getting points from ./calibration-contrasty\\1689110395500-f.png\n",
      "2\n",
      "2\n",
      "getting points from ./calibration-contrasty\\1689110400455-f.png\n",
      "3\n",
      "3\n",
      "calibrating\n"
     ]
    }
   ],
   "source": [
    "# https://docs.opencv.org/4.x/dc/dbb/tutorial_py_calibration.html\n",
    "\n",
    "import numpy as np\n",
    "import cv2 as cv\n",
    "import glob\n",
    "\n",
    "chesswidth = 7\n",
    "chessheight = 7\n",
    "\n",
    "# termination criteria\n",
    "criteria = (cv.TERM_CRITERIA_EPS + cv.TERM_CRITERIA_MAX_ITER, 30, 0.001)\n",
    "\n",
    "# prepare object points, like (0,0,0), (1,0,0), (2,0,0) ....,(6,5,0)\n",
    "objp = np.zeros((chesswidth*chessheight,3), np.float32)\n",
    "objp[:,:2] = np.mgrid[0:chesswidth,0:chessheight].T.reshape(-1,2)\n",
    "\n",
    "# Arrays to store object points and image points from all the images.\n",
    "objpoints = [] # 3d point in real world space\n",
    "imgpoints = [] # 2d points in image plane.\n",
    "\n",
    "images = glob.glob('./calibration-contrasty/*.png')\n",
    "for fname in images:\n",
    "    print('getting points from ' + fname)\n",
    "    img = cv.imread(fname)\n",
    "    gray = cv.cvtColor(img, cv.COLOR_BGR2GRAY)\n",
    "\n",
    "    # Find the chess board corners\n",
    "    ret, corners = cv.findChessboardCorners(gray, (chesswidth, chessheight), None)\n",
    "\n",
    "    # If found, add object points, image points (after refining them)\n",
    "    if ret == True:\n",
    "        objpoints.append(objp)\n",
    "        print(len(objpoints))\n",
    "\n",
    "        corners2 = cv.cornerSubPix(gray,corners, (11,11), (-1,-1), criteria)\n",
    "        imgpoints.append(corners2)\n",
    "        print(len(imgpoints))\n",
    "    else:\n",
    "        print('chessboard corners not found')\n",
    "\n",
    "print('calibrating')\n",
    "\n",
    "# calibrate the camera\n",
    "ret, mtx, dist, rvecs, tvecs = cv.calibrateCamera(objpoints, imgpoints, gray.shape[::-1], None, None)\n",
    "\n",
    "h, w = img.shape[:2]\n",
    "newcameramtx, roi = cv.getOptimalNewCameraMatrix(mtx, dist, (w,h), 1, (w,h))\n",
    "\n",
    "np.savetxt('matrix.txt', mtx)\n",
    "np.savetxt('distortion.txt', dist)"
   ]
  },
  {
   "cell_type": "code",
   "execution_count": 4,
   "metadata": {},
   "outputs": [
    {
     "name": "stdout",
     "output_type": "stream",
     "text": [
      "undistorting\n"
     ]
    }
   ],
   "source": [
    "\n",
    "\n",
    "print('undistorting')\n",
    "\n",
    "# try it on some stuff\n",
    "img = cv.imread('./distorted.png')\n",
    "\n",
    "# using cv2.undistort()\n",
    "dst = cv.undistort(img, mtx, dist, None, newcameramtx)\n",
    "x, y, w, h = roi\n",
    "cv.imwrite('undistorted-cv2undistort.png', dst)\n",
    "dst = dst[y:y+h, x:x+w]\n",
    "cv.imwrite('undistorted-cv2undistort-cropped.png', dst)\n",
    "\n",
    "# using remap function\n",
    "mapx, mapy = cv.initUndistortRectifyMap(mtx, dist, None, newcameramtx, (w,h), 5)\n",
    "dst = cv.remap(img, mapx, mapy, cv.INTER_LINEAR)\n",
    "cv.imwrite('undistorted-remap.png', dst)\n",
    "x, y, w, h = roi\n",
    "dst = dst[y:y+h, x:x+w]\n",
    "cv.imwrite('undistorted-remap-cropped.png', dst)\n",
    "\n",
    "# calculate accuracy\n",
    "mean_error = 0\n",
    "for i in range(len(objpoints)):\n",
    "    imgpoints2, _ = cv.projectPoints(objpoints[i], rvecs[i], tvecs[i], mtx, dist)\n",
    "    error = cv.norm(imgpoints[i], imgpoints2, cv.NORM_L2)/len(imgpoints2)\n",
    "    mean_error += error\n",
    "\n",
    "fd = open('error.txt', 'w+')\n",
    "fd.write(str(mean_error))\n",
    "fd.close()"
   ]
  }
 ],
 "metadata": {
  "kernelspec": {
   "display_name": "Python 3",
   "language": "python",
   "name": "python3"
  },
  "language_info": {
   "codemirror_mode": {
    "name": "ipython",
    "version": 3
   },
   "file_extension": ".py",
   "mimetype": "text/x-python",
   "name": "python",
   "nbconvert_exporter": "python",
   "pygments_lexer": "ipython3",
   "version": "3.11.4"
  },
  "orig_nbformat": 4
 },
 "nbformat": 4,
 "nbformat_minor": 2
}
