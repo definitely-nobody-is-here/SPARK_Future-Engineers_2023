{
 "cells": [
  {
   "cell_type": "code",
   "execution_count": 1,
   "metadata": {},
   "outputs": [],
   "source": [
    "from PIL import Image\n",
    "import numpy\n",
    "import random\n",
    "import math\n",
    "\n",
    "apple = Image.open(\"banner.png\")\n",
    "array = numpy.array(apple)\n",
    "\n",
    "\n",
    "for i in range(len(array)):\n",
    "    for j in range(len(array[i])):\n",
    "        if array[i][j][0] > 150:\n",
    "            array[i][j] = [0,min(255,2 * array[i][j][1]),min(255,2 * array[i][j][2]), 255]\n",
    "        array[i][j][0] += random.uniform(-0.1, 0.1)\n",
    "        array[i][j][1] += random.uniform(-0.1, 0.1)\n",
    "        array[i][j][2] += random.uniform(-0.1, 0.1)\n",
    "        array[i][j][3] += random.uniform(-0.1, 0.1)\n",
    "\n",
    "apple2 = Image.fromarray(array)\n",
    "apple2.show()"
   ]
  },
  {
   "cell_type": "code",
   "execution_count": 10,
   "metadata": {},
   "outputs": [
    {
     "ename": "AttributeError",
     "evalue": "'list' object has no attribute '__array_interface__'",
     "output_type": "error",
     "traceback": [
      "\u001b[1;31m---------------------------------------------------------------------------\u001b[0m",
      "\u001b[1;31mAttributeError\u001b[0m                            Traceback (most recent call last)",
      "\u001b[1;32mc:\\Users\\guliz\\Documents\\GitHub\\SPARK_Future-Engineers_2023\\Program\\Controller\\iamges.ipynb Cell 2\u001b[0m in \u001b[0;36m<cell line: 23>\u001b[1;34m()\u001b[0m\n\u001b[0;32m     <a href='vscode-notebook-cell:/c%3A/Users/guliz/Documents/GitHub/SPARK_Future-Engineers_2023/Program/Controller/iamges.ipynb#W1sZmlsZQ%3D%3D?line=20'>21</a>\u001b[0m \u001b[39mfor\u001b[39;00m i \u001b[39min\u001b[39;00m \u001b[39mrange\u001b[39m(\u001b[39mlen\u001b[39m(distances)):\n\u001b[0;32m     <a href='vscode-notebook-cell:/c%3A/Users/guliz/Documents/GitHub/SPARK_Future-Engineers_2023/Program/Controller/iamges.ipynb#W1sZmlsZQ%3D%3D?line=21'>22</a>\u001b[0m     image\u001b[39m.\u001b[39mappend([distances[i][\u001b[39m2\u001b[39m], distances[i][\u001b[39m2\u001b[39m], distances[i][\u001b[39m2\u001b[39m]])\n\u001b[1;32m---> <a href='vscode-notebook-cell:/c%3A/Users/guliz/Documents/GitHub/SPARK_Future-Engineers_2023/Program/Controller/iamges.ipynb#W1sZmlsZQ%3D%3D?line=22'>23</a>\u001b[0m show(image)\n\u001b[0;32m     <a href='vscode-notebook-cell:/c%3A/Users/guliz/Documents/GitHub/SPARK_Future-Engineers_2023/Program/Controller/iamges.ipynb#W1sZmlsZQ%3D%3D?line=23'>24</a>\u001b[0m \u001b[39m# show(numpy.concatenate(([distances], [distances], [distances]), axis=0))\u001b[39;00m\n\u001b[0;32m     <a href='vscode-notebook-cell:/c%3A/Users/guliz/Documents/GitHub/SPARK_Future-Engineers_2023/Program/Controller/iamges.ipynb#W1sZmlsZQ%3D%3D?line=24'>25</a>\u001b[0m rBlobs, gBlobs \u001b[39m=\u001b[39m converter\u001b[39m.\u001b[39mgetBlobs(rLeftIn, gLeftIn, rRightIn, gRightIn)\n",
      "\u001b[1;32mc:\\Users\\guliz\\Documents\\GitHub\\SPARK_Future-Engineers_2023\\Program\\Controller\\iamges.ipynb Cell 2\u001b[0m in \u001b[0;36mshow\u001b[1;34m(img)\u001b[0m\n\u001b[0;32m      <a href='vscode-notebook-cell:/c%3A/Users/guliz/Documents/GitHub/SPARK_Future-Engineers_2023/Program/Controller/iamges.ipynb#W1sZmlsZQ%3D%3D?line=7'>8</a>\u001b[0m \u001b[39mdef\u001b[39;00m \u001b[39mshow\u001b[39m(img):\n\u001b[1;32m----> <a href='vscode-notebook-cell:/c%3A/Users/guliz/Documents/GitHub/SPARK_Future-Engineers_2023/Program/Controller/iamges.ipynb#W1sZmlsZQ%3D%3D?line=8'>9</a>\u001b[0m     Image\u001b[39m.\u001b[39;49mfromarray(img)\u001b[39m.\u001b[39mshow()\n",
      "File \u001b[1;32mc:\\Users\\guliz\\AppData\\Local\\Programs\\Python\\Python310\\lib\\site-packages\\PIL\\Image.py:2943\u001b[0m, in \u001b[0;36mfromarray\u001b[1;34m(obj, mode)\u001b[0m\n\u001b[0;32m   2904\u001b[0m \u001b[39mdef\u001b[39;00m \u001b[39mfromarray\u001b[39m(obj, mode\u001b[39m=\u001b[39m\u001b[39mNone\u001b[39;00m):\n\u001b[0;32m   2905\u001b[0m     \u001b[39m\"\"\"\u001b[39;00m\n\u001b[0;32m   2906\u001b[0m \u001b[39m    Creates an image memory from an object exporting the array interface\u001b[39;00m\n\u001b[0;32m   2907\u001b[0m \u001b[39m    (using the buffer protocol).\u001b[39;00m\n\u001b[1;32m   (...)\u001b[0m\n\u001b[0;32m   2941\u001b[0m \u001b[39m    .. versionadded:: 1.1.6\u001b[39;00m\n\u001b[0;32m   2942\u001b[0m \u001b[39m    \"\"\"\u001b[39;00m\n\u001b[1;32m-> 2943\u001b[0m     arr \u001b[39m=\u001b[39m obj\u001b[39m.\u001b[39;49m__array_interface__\n\u001b[0;32m   2944\u001b[0m     shape \u001b[39m=\u001b[39m arr[\u001b[39m\"\u001b[39m\u001b[39mshape\u001b[39m\u001b[39m\"\u001b[39m]\n\u001b[0;32m   2945\u001b[0m     ndim \u001b[39m=\u001b[39m \u001b[39mlen\u001b[39m(shape)\n",
      "\u001b[1;31mAttributeError\u001b[0m: 'list' object has no attribute '__array_interface__'"
     ]
    }
   ],
   "source": [
    "from PIL import Image\n",
    "import numpy\n",
    "from ../../Program/Controller import converter\n",
    "import cv2\n",
    "\n",
    "leftImg, rightImg = numpy.split(numpy.array(Image.open(\"img1.png\")), 2, axis=1)\n",
    "\n",
    "def show(img):\n",
    "    Image.fromarray(img).show()\n",
    "\n",
    "filteredLeftImg = converter.filter(leftImg)\n",
    "leftEdgesImage, gLeftIn, rLeftIn = cv2.split(filteredLeftImg)\n",
    "\n",
    "filteredRightImg = converter.filter(rightImg)\n",
    "rightEdgesImage, gRightIn, rRightIn = cv2.split(filteredRightImg)\n",
    "\n",
    "distances = converter.getDistances(leftEdgesImage, rightEdgesImage)\n",
    "\n",
    "image = []\n",
    "\n",
    "for i in range(len(distances)):\n",
    "    print(distances[i])\n",
    "    image.append([distances[i][2], distances[i][2], distances[i][2]])\n",
    "show(image)\n",
    "# show(numpy.concatenate(([distances], [distances], [distances]), axis=0))\n",
    "rBlobs, gBlobs = converter.getBlobs(rLeftIn, gLeftIn, rRightIn, gRightIn)\n",
    "\n",
    "outerWallLandmarks, innerWallLandmarks, rBlobLandmarks, gBlobLandmarks = converter.getLandmarks(distances, rBlobs, gBlobs)\n",
    "\n",
    "print(outerWallLandmarks, innerWallLandmarks, rBlobLandmarks, gBlobLandmarks)"
   ]
  },
  {
   "cell_type": "code",
   "execution_count": null,
   "metadata": {},
   "outputs": [],
   "source": [
    "import math\n",
    "\n",
    "horizontalFov = 155\n",
    "verticalFov = 115\n",
    "imageWidth = 272\n",
    "imageHeight = 154\n",
    "focalLength = ((imageHeight / 2) / math.tan(math.pi * (verticalFov / 2) / 180))\n",
    "wallHeight = 10\n",
    "centerOffset = 10\n",
    "dist = wallHeight * math.sqrt(focalLength**2 + (imageWidth / 2 - 29)**2) / 36\n",
    "# return (dir * (3 + a[1] * dist), (10 + a[2] * dist), dist)\n",
    "\n",
    "print(focalLength)\n",
    "dist"
   ]
  }
 ],
 "metadata": {
  "kernelspec": {
   "display_name": "Python 3",
   "language": "python",
   "name": "python3"
  },
  "language_info": {
   "codemirror_mode": {
    "name": "ipython",
    "version": 3
   },
   "file_extension": ".py",
   "mimetype": "text/x-python",
   "name": "python",
   "nbconvert_exporter": "python",
   "pygments_lexer": "ipython3",
   "version": "3.10.5"
  },
  "orig_nbformat": 4
 },
 "nbformat": 4,
 "nbformat_minor": 2
}
