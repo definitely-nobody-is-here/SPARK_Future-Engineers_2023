{
 "cells": [
  {
   "cell_type": "code",
   "execution_count": 1,
   "metadata": {},
   "outputs": [
    {
     "name": "stdout",
     "output_type": "stream",
     "text": [
      "False\n",
      "False\n",
      "False\n",
      "False\n",
      "False\n",
      "False\n",
      "False\n",
      "False\n",
      "True\n",
      "Found 1 valid images for calibration\n",
      "DIM=(1088, 457)\n",
      "K=np.array([[434.74111558991905, 0.0, 614.8684973800457], [0.0, 434.4880256508325, 194.29426423655096], [0.0, 0.0, 1.0]])\n",
      "D=np.array([[-0.14119451050922513], [0.24946082069409167], [-0.127051050668682], [0.02187660794233424]])\n"
     ]
    }
   ],
   "source": [
    "import cv2\n",
    "assert cv2.__version__[0] != '1' and cv2.__version__[0] != '2', 'The fisheye module requires opencv version >= 3.0.0'\n",
    "import numpy as np\n",
    "import os\n",
    "import glob\n",
    "CHECKERBOARD = (7, 7)\n",
    "subpix_criteria = (cv2.TERM_CRITERIA_EPS+cv2.TERM_CRITERIA_MAX_ITER, 30, 0.1)\n",
    "calibration_flags = cv2.fisheye.CALIB_RECOMPUTE_EXTRINSIC+cv2.fisheye.CALIB_FIX_SKEW\n",
    "objp = np.zeros((1, CHECKERBOARD[0]*CHECKERBOARD[1], 3), np.float32)\n",
    "objp[0,:,:2] = np.mgrid[0:CHECKERBOARD[0], 0:CHECKERBOARD[1]].T.reshape(-1, 2)\n",
    "_img_shape = None\n",
    "objpoints = [] # 3d point in real world space\n",
    "imgpoints = [] # 2d points in image plane.\n",
    "images = glob.glob('./asdf/*.png')\n",
    "for fname in images:\n",
    "    img = cv2.imread(fname)\n",
    "    if _img_shape == None:\n",
    "        _img_shape = img.shape[:2]\n",
    "    else:\n",
    "        assert _img_shape == img.shape[:2], \"All images must share the same size.\"\n",
    "    gray = cv2.cvtColor(img,cv2.COLOR_BGR2GRAY)\n",
    "    # Find the chess board corners\n",
    "    ret, corners = cv2.findChessboardCorners(gray, CHECKERBOARD, cv2.CALIB_CB_ADAPTIVE_THRESH+cv2.CALIB_CB_FAST_CHECK+cv2.CALIB_CB_NORMALIZE_IMAGE)\n",
    "    \n",
    "    # If found, add object points, image points (after refining them)\n",
    "    if ret == True:\n",
    "        objpoints.append(objp)\n",
    "        cv2.cornerSubPix(gray,corners,(3,3),(-1,-1),subpix_criteria)\n",
    "        imgpoints.append(corners)\n",
    "N_OK = len(objpoints)\n",
    "K = np.zeros((3, 3))\n",
    "D = np.zeros((4, 1))\n",
    "rvecs = [np.zeros((1, 1, 3), dtype=np.float64) for i in range(N_OK)]\n",
    "tvecs = [np.zeros((1, 1, 3), dtype=np.float64) for i in range(N_OK)]\n",
    "rms, _, _, _, _ = \\\n",
    "    cv2.fisheye.calibrate(\n",
    "        objpoints,\n",
    "        imgpoints,\n",
    "        gray.shape[::-1],\n",
    "        K,\n",
    "        D,\n",
    "        rvecs,\n",
    "        tvecs,\n",
    "        calibration_flags,\n",
    "        (cv2.TERM_CRITERIA_EPS+cv2.TERM_CRITERIA_MAX_ITER, 30, 1e-6)\n",
    "    )\n",
    "print(\"Found \" + str(N_OK) + \" valid images for calibration\")\n",
    "print(\"DIM=\" + str(_img_shape[::-1]))\n",
    "print(\"K=np.array(\" + str(K.tolist()) + \")\")\n",
    "print(\"D=np.array(\" + str(D.tolist()) + \")\")"
   ]
  },
  {
   "cell_type": "code",
   "execution_count": 5,
   "metadata": {},
   "outputs": [
    {
     "name": "stdout",
     "output_type": "stream",
     "text": [
      "[-1.3847446   0.66234285]\n",
      "[ 18.33616 129.40924]\n",
      "[-0.3453837   0.32190865]\n",
      "[206.67651  68.0124 ]\n",
      "[0.16568549 0.3384342 ]\n",
      "[299.28625  70.99276]\n",
      "[0.71916276 0.31125954]\n",
      "[399.5807   66.09184]\n",
      "[1.2733293  0.36619845]\n",
      "[500.  76.]\n"
     ]
    }
   ],
   "source": [
    "import cv2\n",
    "assert cv2.__version__[0] != '1' and cv2.__version__[0] != '2', 'The fisheye module requires opencv version >= 3.0.0'\n",
    "import numpy as np\n",
    "import glob\n",
    "# DIM=(1088, 616)\n",
    "# K=np.array([[354.93201395880965, 0.0, 542.5266491557063], [0.0, 353.3228650112126, 325.66462617249334], [0.0, 0.0, 1.0]])\n",
    "# D=np.array([[0.09107049072001831], [-0.08486396999427757], [0.1202734721798727], [-0.05674788013098452]])\n",
    "# DIM=(544, 308)\n",
    "# K=np.array([[181.20784053368962, 0.0, 269.26274741570063], [0.0, 180.34861809531762, 9.95661764906816], [0.0, 0.0, 1.0]])\n",
    "# D=np.array([[0.08869574884019396], [-0.06559255628891703], [0.07411420387674333], [-0.03169574352239552]])\n",
    "\n",
    "# Paste matrices here\n",
    "\n",
    "def undistort(img_path):\n",
    "    img = cv2.imread(img_path)[155:]\n",
    "    new_K = K.copy()\n",
    "    new_K[0][0] *= 0.5\n",
    "    new_K[1][1] *= 0.5\n",
    "    map1, map2 = cv2.fisheye.initUndistortRectifyMap(K, D, np.eye(3), new_K, DIM, cv2.CV_16SC2)\n",
    "    undistorted_img = cv2.remap(img, map1, map2, interpolation=cv2.INTER_LINEAR, borderMode=cv2.BORDER_CONSTANT)\n",
    "    cv2.imwrite(\"undistorted_img.png\", undistorted_img)\n",
    "    cv2.imshow(\"undistorted\", undistorted_img)\n",
    "    cv2.waitKey(0)\n",
    "    cv2.destroyAllWindows()\n",
    "if __name__ == '__main__':\n",
    "    images = glob.glob('*.png')\n",
    "    for fname in images:\n",
    "        undistort(fname)"
   ]
  }
 ],
 "metadata": {
  "kernelspec": {
   "display_name": "Python 3",
   "language": "python",
   "name": "python3"
  },
  "language_info": {
   "codemirror_mode": {
    "name": "ipython",
    "version": 3
   },
   "file_extension": ".py",
   "mimetype": "text/x-python",
   "name": "python",
   "nbconvert_exporter": "python",
   "pygments_lexer": "ipython3",
   "version": "3.10.5"
  },
  "orig_nbformat": 4
 },
 "nbformat": 4,
 "nbformat_minor": 2
}
