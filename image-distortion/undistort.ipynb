{
 "cells": [
  {
   "cell_type": "code",
   "execution_count": 7,
   "metadata": {},
   "outputs": [
    {
     "name": "stdout",
     "output_type": "stream",
     "text": [
      "getting points from ./calibration-contrasty\\1689110378692-f.png\n",
      "chessboard corners not found\n",
      "getting points from ./calibration-contrasty\\1689110395500-f.png\n",
      "chessboard corners not found\n",
      "getting points from ./calibration-contrasty\\1689110400455-f.png\n",
      "chessboard corners not found\n",
      "getting points from ./calibration-contrasty\\1689643949801-f.png\n",
      "getting points from ./calibration-contrasty\\1689643956795-f.png\n",
      "getting points from ./calibration-contrasty\\1689643961846-f.png\n",
      "getting points from ./calibration-contrasty\\1689643969322-f.png\n",
      "getting points from ./calibration-contrasty\\1689643972511-f.png\n",
      "getting points from ./calibration-contrasty\\1689643975090-f.png\n",
      "getting points from ./calibration-contrasty\\1689643978269-f.png\n",
      "getting points from ./calibration-contrasty\\1689643983144-f.png\n",
      "getting points from ./calibration-contrasty\\1689643992277-f.png\n",
      "getting points from ./calibration-contrasty\\1689643998891-f.png\n",
      "chessboard corners not found\n",
      "getting points from ./calibration-contrasty\\1689644006077-f.png\n",
      "getting points from ./calibration-contrasty\\1689644011166-f.png\n",
      "getting points from ./calibration-contrasty\\1689644012799-f.png\n",
      "getting points from ./calibration-contrasty\\1689644014444-f.png\n",
      "getting points from ./calibration-contrasty\\1689644016968-f.png\n",
      "getting points from ./calibration-contrasty\\1689644018792-f.png\n",
      "getting points from ./calibration-contrasty\\1689644020618-f.png\n",
      "getting points from ./calibration-contrasty\\1689644022005-f.png\n",
      "getting points from ./calibration-contrasty\\1689644023269-f.png\n",
      "getting points from ./calibration-contrasty\\1689644024758-f.png\n",
      "getting points from ./calibration-contrasty\\1689644026344-f.png\n",
      "getting points from ./calibration-contrasty\\1689644027858-f.png\n",
      "getting points from ./calibration-contrasty\\1689644029347-f.png\n",
      "calibrating\n"
     ]
    }
   ],
   "source": [
    "# https://docs.opencv.org/4.x/dc/dbb/tutorial_py_calibration.html\n",
    "\n",
    "import numpy as np\n",
    "import cv2 as cv\n",
    "import glob\n",
    "\n",
    "chesswidth = 7\n",
    "chessheight = 7\n",
    "\n",
    "# termination criteria\n",
    "criteria = (cv.TERM_CRITERIA_EPS + cv.TERM_CRITERIA_MAX_ITER, 30, 0.001)\n",
    "\n",
    "# prepare object points, like (0,0,0), (1,0,0), (2,0,0) ....,(6,5,0)\n",
    "objp = np.zeros((chesswidth*chessheight,3), np.float32)\n",
    "objp[:,:2] = np.mgrid[0:chesswidth,0:chessheight].T.reshape(-1,2)\n",
    "\n",
    "# Arrays to store object points and image points from all the images.\n",
    "objpoints = [] # 3d point in real world space\n",
    "imgpoints = [] # 2d points in image plane.\n",
    "\n",
    "readFrom = './calibration-contrasty'\n",
    "images = glob.glob(readFrom + '/*.png')\n",
    "for fname in images:\n",
    "    print('getting points from ' + fname)\n",
    "    img = cv.imread(fname)\n",
    "    gray = cv.cvtColor(img, cv.COLOR_BGR2GRAY)\n",
    "\n",
    "    # Find the chess board corners\n",
    "    ret, corners = cv.findChessboardCorners(gray, (chesswidth, chessheight), None)\n",
    "\n",
    "    # If found, add object points, image points (after refining them)\n",
    "    if ret == True:\n",
    "        objpoints.append(objp)\n",
    "\n",
    "        corners2 = cv.cornerSubPix(gray,corners, (11,11), (-1,-1), criteria)\n",
    "        imgpoints.append(corners2)\n",
    "    \n",
    "        cv.drawChessboardCorners(img, (chesswidth, chessheight), corners2, ret)\n",
    "        cv.imwrite('./calibration-chessboards/' + fname.replace(readFrom + '\\\\', ''), img)\n",
    "    else:\n",
    "        print('chessboard corners not found')\n",
    "\n",
    "print('calibrating')\n",
    "\n",
    "# calibrate the camera\n",
    "ret, mtx, dist, rvecs, tvecs = cv.calibrateCamera(objpoints, imgpoints, gray.shape[::-1], None, None)\n",
    "\n",
    "np.savetxt('./results/matrix.txt', mtx)\n",
    "np.savetxt('./results/distortion.txt', dist)"
   ]
  },
  {
   "cell_type": "code",
   "execution_count": null,
   "metadata": {},
   "outputs": [],
   "source": [
    "import numpy as np\n",
    "import cv2 as cv\n",
    "\n",
    "mtx = np.loadtxt('./results/matrix.txt')\n",
    "dist = np.loadtxt('./results/distortion.txt')"
   ]
  },
  {
   "cell_type": "code",
   "execution_count": 8,
   "metadata": {},
   "outputs": [
    {
     "name": "stdout",
     "output_type": "stream",
     "text": [
      "undistorting\n"
     ]
    }
   ],
   "source": [
    "cw = 616\n",
    "ch = 1088\n",
    "w = 3264\n",
    "h = 1848\n",
    "newcameramtx, roi = cv.getOptimalNewCameraMatrix(mtx, dist, (cw,ch), 1, (w,h))\n",
    "\n",
    "print('undistorting')\n",
    "\n",
    "# try it on some stuff\n",
    "img = cv.imread('./distorted.png')\n",
    "\n",
    "# using cv2.undistort()\n",
    "dst = cv.undistort(img, mtx, dist, None, newcameramtx)\n",
    "x, y, w, h = roi\n",
    "cv.imwrite('./results/undistorted-cv2undistort.png', dst)\n",
    "dst = dst[y:y+h, x:x+w]\n",
    "cv.imwrite('./results/undistorted-cv2undistort-cropped.png', dst)\n",
    "\n",
    "# using remap function\n",
    "mapx, mapy = cv.initUndistortRectifyMap(mtx, dist, None, newcameramtx, (w,h), 5)\n",
    "dst = cv.remap(img, mapx, mapy, cv.INTER_LINEAR)\n",
    "cv.imwrite('./results/undistorted-remap.png', dst)\n",
    "x, y, w, h = roi\n",
    "dst = dst[y:y+h, x:x+w]\n",
    "cv.imwrite('./results/undistorted-remap-cropped.png', dst)\n",
    "\n",
    "# calculate accuracy\n",
    "mean_error = 0\n",
    "for i in range(len(objpoints)):\n",
    "    imgpoints2, _ = cv.projectPoints(objpoints[i], rvecs[i], tvecs[i], mtx, dist)\n",
    "    error = cv.norm(imgpoints[i], imgpoints2, cv.NORM_L2)/len(imgpoints2)\n",
    "    mean_error += error\n",
    "\n",
    "fd = open('./results/error.txt', 'w+')\n",
    "fd.write(str(mean_error))\n",
    "fd.close()"
   ]
  },
  {
   "cell_type": "code",
   "execution_count": 10,
   "metadata": {},
   "outputs": [],
   "source": [
    "# CROP RAW\n",
    "\n",
    "import numpy as np\n",
    "import cv2 as cv\n",
    "import glob\n",
    "\n",
    "images = glob.glob('./calibration-uncropped/*.png')\n",
    "for fname in images:\n",
    "    img = cv.imread(fname)\n",
    "    croppedImg = np.split(img, 2, axis=1)[0]\n",
    "    cv.imwrite('./calibration/' + fname.replace('./calibration-uncropped\\\\', ''), croppedImg)"
   ]
  },
  {
   "cell_type": "code",
   "execution_count": 6,
   "metadata": {},
   "outputs": [],
   "source": [
    "# MAKE CONTRASTY\n",
    "\n",
    "import numpy as np\n",
    "import cv2 as cv\n",
    "import glob\n",
    "\n",
    "images = glob.glob('./calibration/*.png')\n",
    "for fname in images:\n",
    "    img = cv.imread(fname)\n",
    "    contrastyImg = cv.convertScaleAbs(img, alpha=5, beta=-250)\n",
    "    cv.imwrite('./calibration-contrasty/' + fname.replace('./calibration\\\\', ''), contrastyImg)"
   ]
  }
 ],
 "metadata": {
  "kernelspec": {
   "display_name": "Python 3",
   "language": "python",
   "name": "python3"
  },
  "language_info": {
   "codemirror_mode": {
    "name": "ipython",
    "version": 3
   },
   "file_extension": ".py",
   "mimetype": "text/x-python",
   "name": "python",
   "nbconvert_exporter": "python",
   "pygments_lexer": "ipython3",
   "version": "3.11.4"
  },
  "orig_nbformat": 4
 },
 "nbformat": 4,
 "nbformat_minor": 2
}
