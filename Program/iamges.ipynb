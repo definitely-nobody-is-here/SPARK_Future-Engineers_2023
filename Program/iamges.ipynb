{
 "cells": [
  {
   "cell_type": "code",
   "execution_count": 2,
   "metadata": {},
   "outputs": [
    {
     "ename": "FileNotFoundError",
     "evalue": "[Errno 2] No such file or directory: 'banner.png'",
     "output_type": "error",
     "traceback": [
      "\u001b[1;31m---------------------------------------------------------------------------\u001b[0m",
      "\u001b[1;31mFileNotFoundError\u001b[0m                         Traceback (most recent call last)",
      "\u001b[1;32mc:\\Users\\guliz\\Documents\\GitHub\\SPARK_Future-Engineers_2023\\Program\\Controller\\iamges.ipynb Cell 1\u001b[0m in \u001b[0;36m<cell line: 6>\u001b[1;34m()\u001b[0m\n\u001b[0;32m      <a href='vscode-notebook-cell:/c%3A/Users/guliz/Documents/GitHub/SPARK_Future-Engineers_2023/Program/Controller/iamges.ipynb#W0sZmlsZQ%3D%3D?line=2'>3</a>\u001b[0m \u001b[39mimport\u001b[39;00m \u001b[39mrandom\u001b[39;00m\n\u001b[0;32m      <a href='vscode-notebook-cell:/c%3A/Users/guliz/Documents/GitHub/SPARK_Future-Engineers_2023/Program/Controller/iamges.ipynb#W0sZmlsZQ%3D%3D?line=3'>4</a>\u001b[0m \u001b[39mimport\u001b[39;00m \u001b[39mmath\u001b[39;00m\n\u001b[1;32m----> <a href='vscode-notebook-cell:/c%3A/Users/guliz/Documents/GitHub/SPARK_Future-Engineers_2023/Program/Controller/iamges.ipynb#W0sZmlsZQ%3D%3D?line=5'>6</a>\u001b[0m apple \u001b[39m=\u001b[39m Image\u001b[39m.\u001b[39;49mopen(\u001b[39m\"\u001b[39;49m\u001b[39mbanner.png\u001b[39;49m\u001b[39m\"\u001b[39;49m)\n\u001b[0;32m      <a href='vscode-notebook-cell:/c%3A/Users/guliz/Documents/GitHub/SPARK_Future-Engineers_2023/Program/Controller/iamges.ipynb#W0sZmlsZQ%3D%3D?line=6'>7</a>\u001b[0m array \u001b[39m=\u001b[39m numpy\u001b[39m.\u001b[39marray(apple)\n\u001b[0;32m     <a href='vscode-notebook-cell:/c%3A/Users/guliz/Documents/GitHub/SPARK_Future-Engineers_2023/Program/Controller/iamges.ipynb#W0sZmlsZQ%3D%3D?line=9'>10</a>\u001b[0m \u001b[39mfor\u001b[39;00m i \u001b[39min\u001b[39;00m \u001b[39mrange\u001b[39m(\u001b[39mlen\u001b[39m(array)):\n",
      "File \u001b[1;32mc:\\Users\\guliz\\AppData\\Local\\Programs\\Python\\Python310\\lib\\site-packages\\PIL\\Image.py:3092\u001b[0m, in \u001b[0;36mopen\u001b[1;34m(fp, mode, formats)\u001b[0m\n\u001b[0;32m   3089\u001b[0m     filename \u001b[39m=\u001b[39m fp\n\u001b[0;32m   3091\u001b[0m \u001b[39mif\u001b[39;00m filename:\n\u001b[1;32m-> 3092\u001b[0m     fp \u001b[39m=\u001b[39m builtins\u001b[39m.\u001b[39;49mopen(filename, \u001b[39m\"\u001b[39;49m\u001b[39mrb\u001b[39;49m\u001b[39m\"\u001b[39;49m)\n\u001b[0;32m   3093\u001b[0m     exclusive_fp \u001b[39m=\u001b[39m \u001b[39mTrue\u001b[39;00m\n\u001b[0;32m   3095\u001b[0m \u001b[39mtry\u001b[39;00m:\n",
      "\u001b[1;31mFileNotFoundError\u001b[0m: [Errno 2] No such file or directory: 'banner.png'"
     ]
    }
   ],
   "source": [
    "from PIL import Image\n",
    "import numpy\n",
    "import random\n",
    "import math\n",
    "\n",
    "apple = Image.open(\"banner.png\")\n",
    "array = numpy.array(apple)\n",
    "\n",
    "\n",
    "for i in range(len(array)):\n",
    "    for j in range(len(array[i])):\n",
    "        if array[i][j][0] > 150:\n",
    "            array[i][j] = [0,min(255,2 * array[i][j][1]),min(255,2 * array[i][j][2]), 255]\n",
    "        array[i][j][0] += random.uniform(-0.1, 0.1)\n",
    "        array[i][j][1] += random.uniform(-0.1, 0.1)\n",
    "        array[i][j][2] += random.uniform(-0.1, 0.1)\n",
    "        array[i][j][3] += random.uniform(-0.1, 0.1)\n",
    "\n",
    "apple2 = Image.fromarray(array)\n",
    "apple2.show()"
   ]
  },
  {
   "cell_type": "code",
   "execution_count": 2,
   "metadata": {},
   "outputs": [
    {
     "name": "stdout",
     "output_type": "stream",
     "text": [
      "[27.30225186  6.68573663 28.10893151 -0.54524544]\n",
      "[28.66914388  7.23054412 29.56688315 -0.53834389]\n"
     ]
    },
    {
     "data": {
      "image/png": "[encoded data removed]",
      "text/plain": [
       "<Figure size 432x288 with 1 Axes>"
      ]
     },
     "metadata": {
      "needs_background": "light"
     },
     "output_type": "display_data"
    }
   ],
   "source": [
    "from PIL import Image\n",
    "import numpy\n",
    "from Controller import converter\n",
    "import cv2\n",
    "\n",
    "from matplotlib import pyplot\n",
    "\n",
    "leftImg, rightImg = numpy.split(numpy.array(Image.open(\"img.png\")), 2, axis=1)\n",
    "\n",
    "def show(img):\n",
    "    Image.fromarray(img).show()\n",
    "\n",
    "filteredLeftImg = converter.filter(leftImg)\n",
    "leftEdgesImage, gLeftIn, rLeftIn = cv2.split(filteredLeftImg)\n",
    "\n",
    "# show(leftEdgesImage)\n",
    "\n",
    "filteredRightImg = converter.filter(rightImg)\n",
    "rightEdgesImage, gRightIn, rRightIn = cv2.split(filteredRightImg)\n",
    "\n",
    "distances = converter.getDistances(leftEdgesImage, rightEdgesImage)\n",
    "\n",
    "# if distances[i][2] > 10 and distances[i][2] < 11:\n",
    "#     croppedLeft[i][rawHeightsLeft[i]] = 125\n",
    "# show(croppedLeft)\n",
    "# image = []\n",
    "\n",
    "# # print(heights)\n",
    "# # print(left)\n",
    "# print(distances)\n",
    "x = []\n",
    "y = []\n",
    "for i in distances:\n",
    "    if i[2] < 100:\n",
    "        x.append(i[0])\n",
    "        y.append(i[1])\n",
    "\n",
    "pyplot.scatter(x, y)\n",
    "# for i in range(len(rawHeightsLeft)):\n",
    "#     print(rawHeightsLeft[i])\n",
    "#     print(distances[i])\n",
    "\n",
    "# for i in distances:\n",
    "#     image.append([i[2], i[2], i[2]])\n",
    "# show(numpy.array(image))\n",
    "# show(numpy.concatenate(([distances], [distances], [distances]), axis=0))\n",
    "rBlobs, gBlobs = converter.getBlobs(rLeftIn, gLeftIn, rRightIn, gRightIn)\n",
    "\n",
    "outerWallLandmarks, innerWallLandmarks, rBlobLandmarks, gBlobLandmarks = converter.getLandmarks(distances, rBlobs, gBlobs)\n",
    "\n",
    "for landmark in outerWallLandmarks:\n",
    "    if landmark[2] < 30:\n",
    "        print(landmark)\n",
    "# print(outerWallLandmarks, innerWallLandmarks, rBlobLandmarks, gBlobLandmarks)"
   ]
  },
  {
   "cell_type": "code",
   "execution_count": null,
   "metadata": {},
   "outputs": [],
   "source": []
  },
  {
   "cell_type": "code",
   "execution_count": null,
   "metadata": {},
   "outputs": [],
   "source": [
    "import math\n",
    "\n",
    "horizontalFov = 155\n",
    "verticalFov = 115\n",
    "imageWidth = 272\n",
    "imageHeight = 154\n",
    "focalLength = ((imageHeight / 2) / math.tan(math.pi * (verticalFov / 2) / 180))\n",
    "wallHeight = 10\n",
    "centerOffset = 10\n",
    "dist = wallHeight * math.sqrt(focalLength**2 + (imageWidth / 2 - 29)**2) / 36\n",
    "# return (dir * (3 + a[1] * dist), (10 + a[2] * dist), dist)\n",
    "\n",
    "print(focalLength)\n",
    "dist"
   ]
  }
 ],
 "metadata": {
  "kernelspec": {
   "display_name": "Python 3",
   "language": "python",
   "name": "python3"
  },
  "language_info": {
   "codemirror_mode": {
    "name": "ipython",
    "version": 3
   },
   "file_extension": ".py",
   "mimetype": "text/x-python",
   "name": "python",
   "nbconvert_exporter": "python",
   "pygments_lexer": "ipython3",
   "version": "3.10.5"
  },
  "orig_nbformat": 4
 },
 "nbformat": 4,
 "nbformat_minor": 2
}
