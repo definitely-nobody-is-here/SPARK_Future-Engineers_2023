{
 "cells": [
  {
   "cell_type": "code",
   "execution_count": 2,
   "metadata": {},
   "outputs": [
    {
     "ename": "FileNotFoundError",
     "evalue": "[Errno 2] No such file or directory: 'banner.png'",
     "output_type": "error",
     "traceback": [
      "\u001b[1;31m---------------------------------------------------------------------------\u001b[0m",
      "\u001b[1;31mFileNotFoundError\u001b[0m                         Traceback (most recent call last)",
      "\u001b[1;32mc:\\Users\\guliz\\Documents\\GitHub\\SPARK_Future-Engineers_2023\\Program\\iamges.ipynb Cell 1\u001b[0m in \u001b[0;36m<cell line: 6>\u001b[1;34m()\u001b[0m\n\u001b[0;32m      <a href='vscode-notebook-cell:/c%3A/Users/guliz/Documents/GitHub/SPARK_Future-Engineers_2023/Program/iamges.ipynb#W0sZmlsZQ%3D%3D?line=2'>3</a>\u001b[0m \u001b[39mimport\u001b[39;00m \u001b[39mrandom\u001b[39;00m\n\u001b[0;32m      <a href='vscode-notebook-cell:/c%3A/Users/guliz/Documents/GitHub/SPARK_Future-Engineers_2023/Program/iamges.ipynb#W0sZmlsZQ%3D%3D?line=3'>4</a>\u001b[0m \u001b[39mimport\u001b[39;00m \u001b[39mmath\u001b[39;00m\n\u001b[1;32m----> <a href='vscode-notebook-cell:/c%3A/Users/guliz/Documents/GitHub/SPARK_Future-Engineers_2023/Program/iamges.ipynb#W0sZmlsZQ%3D%3D?line=5'>6</a>\u001b[0m apple \u001b[39m=\u001b[39m Image\u001b[39m.\u001b[39;49mopen(\u001b[39m\"\u001b[39;49m\u001b[39mbanner.png\u001b[39;49m\u001b[39m\"\u001b[39;49m)\n\u001b[0;32m      <a href='vscode-notebook-cell:/c%3A/Users/guliz/Documents/GitHub/SPARK_Future-Engineers_2023/Program/iamges.ipynb#W0sZmlsZQ%3D%3D?line=6'>7</a>\u001b[0m array \u001b[39m=\u001b[39m numpy\u001b[39m.\u001b[39marray(apple)\n\u001b[0;32m     <a href='vscode-notebook-cell:/c%3A/Users/guliz/Documents/GitHub/SPARK_Future-Engineers_2023/Program/iamges.ipynb#W0sZmlsZQ%3D%3D?line=9'>10</a>\u001b[0m \u001b[39mfor\u001b[39;00m i \u001b[39min\u001b[39;00m \u001b[39mrange\u001b[39m(\u001b[39mlen\u001b[39m(array)):\n",
      "File \u001b[1;32mc:\\Users\\guliz\\AppData\\Local\\Programs\\Python\\Python310\\lib\\site-packages\\PIL\\Image.py:3092\u001b[0m, in \u001b[0;36mopen\u001b[1;34m(fp, mode, formats)\u001b[0m\n\u001b[0;32m   3089\u001b[0m     filename \u001b[39m=\u001b[39m fp\n\u001b[0;32m   3091\u001b[0m \u001b[39mif\u001b[39;00m filename:\n\u001b[1;32m-> 3092\u001b[0m     fp \u001b[39m=\u001b[39m builtins\u001b[39m.\u001b[39;49mopen(filename, \u001b[39m\"\u001b[39;49m\u001b[39mrb\u001b[39;49m\u001b[39m\"\u001b[39;49m)\n\u001b[0;32m   3093\u001b[0m     exclusive_fp \u001b[39m=\u001b[39m \u001b[39mTrue\u001b[39;00m\n\u001b[0;32m   3095\u001b[0m \u001b[39mtry\u001b[39;00m:\n",
      "\u001b[1;31mFileNotFoundError\u001b[0m: [Errno 2] No such file or directory: 'banner.png'"
     ]
    }
   ],
   "source": [
    "from PIL import Image\n",
    "import numpy\n",
    "import random\n",
    "import math\n",
    "\n",
    "apple = Image.open(\"banner.png\")\n",
    "array = numpy.array(apple)\n",
    "\n",
    "\n",
    "for i in range(len(array)):\n",
    "    for j in range(len(array[i])):\n",
    "        if array[i][j][0] > 150:\n",
    "            array[i][j] = [0,min(255,2 * array[i][j][1]),min(255,2 * array[i][j][2]), 255]\n",
    "        array[i][j][0] += random.uniform(-0.1, 0.1)\n",
    "        array[i][j][1] += random.uniform(-0.1, 0.1)\n",
    "        array[i][j][2] += random.uniform(-0.1, 0.1)\n",
    "        array[i][j][3] += random.uniform(-0.1, 0.1)\n",
    "\n",
    "apple2 = Image.fromarray(array)\n",
    "apple2.show()"
   ]
  },
  {
   "cell_type": "code",
   "execution_count": 2,
   "metadata": {},
   "outputs": [
    {
     "name": "stdout",
     "output_type": "stream",
     "text": [
      "[ 60.  60.  60.  60.  60.  60.  59.  59.  59.  59.  59.  59.  59.  58.\n",
      "  58.  58.  58.  58.  58.  57.  57.  57.  57.  57.  56.  56.  56.  56.\n",
      "  56.  56.  56.  55.  55.  55.  55.  55.  55.  54.  54.  54.  54.  54.\n",
      "  54.  54.  53.  53.  53.  53.  53.  53.  52.  52.  52.  52.  52.  52.\n",
      "  51.  51.  51.  51.  51.  51.  50.  50.  50.  50.  50.  50.  49.  49.\n",
      "  49.  49.  49.  48.  48.  48.  48.  48.  48.  48.  48.  47.  47.  47.\n",
      "  47.  47.  47.  46.  46.  46.  46.  46.  46.  46.  45.  45.  45.  45.\n",
      "  45.  45.  44.  44.  44.  44.  44.  44.  44.  43.  43.  43.  43.  43.\n",
      "  43.  43.  42.  42.  42.  42.  42.  42.  41.  41.  41.  41.  41.  41.\n",
      "  41.  41.  40.  40.  40.  40.  40.  40.  40.  39.  39.  39.  39.  38.\n",
      "  37.  11.  11.  11.  11.  11.  11.  11.  11.  11.  11.  11.  11.  11.\n",
      "  11.  11.  11.  11.  11.  11.  11.  11.  11.  11.  11.  11.  11.  11.\n",
      "  11.  11.  11.  11.  11.  11.  11.  11.  11.  11.  11.  11.  11.  11.\n",
      "  11.  11.  11.  11.  11.  11.  11.  11.  11.  11.  11.  11.  11.  11.\n",
      "  11.  11.  11.  11.  11.  11.  11.  11.  11.  11.  11.  11.  11.  11.\n",
      "  11.  11.  11.  11.  11.  11.  11.  11.  11.  11.  11.  11.  11.  11.\n",
      "  11.  11.  11.  11.  11.  11.  11.  11.  12.  12.  12.  12.  12.  12.\n",
      "  12.  12.  12.  12.  12.  12.  12.  12.  12.  12.  12.  12.  12.  12.\n",
      "  12.  12.  12.  12.  12. 108. 112. 113. 116. 117. 117. 117.  12.  12.\n",
      "  12.  12.  12. 123. 124. 124. 123. 122.  12.  12.  12.  12.  12.  12.\n",
      "  12.  12.  13.  13.  13.  13.  13.  13.  13.  13.  13.  13.  13.  12.\n",
      "  12.  13.  13.  13.  13. 104. 104. 105. 105.  13.  13.  13.  13.  13.\n",
      "  13.  13.  13.  13.  13.  13.  13.  13.  13.  13.  13.  13.  13.  13.\n",
      "  13.  13.  13.  13.  13.  13.  13.  13.  13.  13.  13.  13.  13.  13.\n",
      "  13.  13.  13.  13.  13.  13.  13.  13.  13.  13.  13.  13.  13.  13.\n",
      "  13.  13.  13.  13.  13.  13.  13.  13.  13.  13.  13.  13.  14.  13.\n",
      "  14.  13.  13.  14.  14.  14.  14.  14.  14.  14.  14.  14.  14.  14.\n",
      "  14.  14.  14.  14.  14.  14.  14.  14.  14.  14.  14.  14.  14.  14.\n",
      "  14.  14.  14.  14.  14.  14.  14.  14.  14.  14.  14.  14.  14.  14.\n",
      "  14.  14.  14.  14.  14.  14.  14.  14.  14.  14.  14.  14.  14.  14.\n",
      "  14.  14.  15.  15.  15.  15.  15.  15.  15.  15.  15.  15.  15.  15.\n",
      "  15.  15.  15.  15.  15.  15.  15.  15.  15.  15.  15.  15.  15.  15.\n",
      "  15.  15.  15.  15.  15.  15.  15.  15.  15.  16.  16.  16.  16.  16.\n",
      "  17.  17.  17.  17.  18.  18.  18.  18.  18.  19.  19.  19.  20.  20.\n",
      "  20.  20.  21.  21.  21.  21.  21.  22.  22.  22.  23.  23.  23.  23.\n",
      "  24.  24.  24.  24.  25.  25.  25.  26.  26.  26.  26.  27.  27.  27.\n",
      "  28.  28.  28.  28.  29.  29.  29.  30.  30.  30.  31.  31.  31.  31.\n",
      " 117. 117. 117. 117. 117.  33.  34.  34.  34.  34.  35.  35.  35.  36.\n",
      "  36.  36.  36.  37.  37.  37.  38.  38.  38.  39.  39.  39.]\n",
      "[]\n",
      "[array([-31.93588883,  14.77318377,  35.18732661,   1.13752303]), array([-32.81581938,  15.32074387,  36.21606266,   1.13400165]), array([-32.86797567,  15.38883869,  36.2921504 ,   1.13290947]), array([-33.6486482 ,  15.83608354,  37.18888366,   1.13091906]), array([-33.69824541,  15.90788008,  37.26435821,   1.12974255]), array([-34.44245697,  16.30997441,  38.10902921,   1.12853768]), array([-34.48998642,  16.38519713,  38.18420941,   1.12728995]), array([-35.34021165,  16.97006348,  39.20348982,   1.12312086]), array([-35.38437132,  17.04973584,  39.27782104,   1.12177899]), array([-36.19965949,  17.59279785,  40.24825318,   1.1184166 ]), array([-36.24090561,  17.67665832,  40.32204718,   1.11699317]), array([-37.10680047,  18.34388578,  41.39339062,   1.11167592]), array([-37.98228411,  19.05384155,  42.49356168,   1.10582898]), array([-38.01655028,  19.14708909,  42.56605591,   1.10423186]), array([-38.86753713,  19.80911526,  43.62437954,   1.09945294]), array([-38.89833955,  19.90710941,  43.69638229,   1.09777495]), array([-39.76269012,  20.61247452,  44.7877844 ,   1.0925473 ]), array([-39.78980821,  20.71541003,  44.85930282,   1.09078833]), array([-40.66782096,  21.46687765,  45.98585106,   1.08511066]), array([-40.69101032,  21.57495476,  46.05688867,   1.08327047]), array([-41.56317305,  22.26257859,  47.14997094,   1.07905084]), array([-41.58295195,  22.37548761,  47.22080409,   1.07714085]), array([-42.52254231,  23.46066729,  48.56510593,   1.06663119]), array([-43.45268196,  24.493845  ,  49.8806978 ,   1.0575033 ]), array([-43.46148749,  24.61912076,  49.94999501,   1.05540505]), array([-44.39575317,  25.72358502,  51.30970401,   1.04565006]), array([-45.33871078,  26.89771413,  52.71703445,   1.0353463 ]), array([-45.33571829,  27.03570855,  52.7850063 ,   1.03306899]), array([-46.28090856,  28.29036432,  54.24266965,   1.02212758]), array([-47.21679641,  29.77566003,  55.82128441,   1.00816884]), array([-48.16912837,  31.20043275,  57.39104401,   0.99602084]), array([-48.14415845,  31.35930033,  57.456642  ,   0.99346387]), array([-49.06051874,  33.04731251,  59.15284746,   0.97800701]), array([-120.34137015,  147.94283263,  190.70691413,    0.68287743]), array([-13.12456583,  25.658901  ,  28.8207118 ,   0.4728064 ]), array([-13.05342916,  25.70588832,  28.83027414,   0.46986747]), array([-11.93914786,  25.16049455,  27.84948361,   0.4430563 ]), array([-11.86965992,  25.20141342,  27.85677772,   0.44017296]), array([-73.2458486 , 162.27802756, 178.04244597,   0.42398452]), array([-11.16585135,  29.28682195,  31.34316794,   0.3642463 ]), array([-10.91318845,  29.1696223 ,  31.14425384,   0.35800644]), array([-2.31448981e+01,  1.61198610e+02,  1.62851707e+02,  1.42605393e-01]), array([-2.19449739e+01,  1.61200186e+02,  1.62687067e+02,  1.35303163e-01]), array([ 19.32038459, 109.48516998, 111.17679482,  -0.17466752]), array([ 19.01200155, 103.78650909, 105.51348574,  -0.18117505]), array([ 18.88255364,  98.43728765, 100.23198307,  -0.18952101]), array([18.39246283, 93.90124146, 95.6855571 , -0.19342154]), array([18.08189406, 89.58378175, 91.39041988, -0.19916742]), array([17.77110452, 85.61399439, 87.43893979, -0.20466602]), array([17.33260115, 82.11120115, 83.92060782, -0.20803298]), array([17.03274265, 78.71510856, 80.53684026, -0.21309927]), array([16.62404921, 75.71371055, 77.517256  , -0.21613495]), array([16.33252827, 72.77142722, 74.58171424, -0.22077756]), array([15.94851573, 70.1696186 , 71.95922824, -0.22348846]), array([15.57873194, 67.73620708, 69.50460876, -0.22606004]), array([15.30022622, 65.31423574, 67.08238452, -0.23010641]), array([14.33961366, 59.12389441, 60.83797671, -0.23794053]), array([14.014079  , 57.32940034, 59.0174089 , -0.23974682]), array([13.74728126, 55.50139927, 57.17860669, -0.24280574]), array([13.4343578 , 53.89229437, 55.54152827, -0.24430242]), array([13.12917213, 52.36386965, 53.98472011, -0.24566523])] [array([-52.25176189,  37.11293575,  64.09069059,   0.95320997]), array([-12.98199183,  25.75248883,  28.83960458,   0.46692725]), array([-11.87309467,  25.53258306,  28.15818131,   0.43527196]), array([-10.82562951,  29.20204954,  31.14408373,   0.35500843]), array([ 1.94780898, 24.46739223, 24.54480072, -0.07944082])] [] []\n",
      "218.23840175367854 218.23840175367854\n"
     ]
    },
    {
     "data": {
      "image/png": "[encoded data removed]",
      "text/plain": [
       "<Figure size 432x288 with 1 Axes>"
      ]
     },
     "metadata": {
      "needs_background": "light"
     },
     "output_type": "display_data"
    }
   ],
   "source": [
    "from PIL import Image\n",
    "import numpy\n",
    "from Controller import converter\n",
    "import cv2\n",
    "\n",
    "from matplotlib import pyplot\n",
    "\n",
    "leftImg, rightImg = numpy.split(numpy.array(Image.open(\"img12.png\")), 2, axis=1)\n",
    "\n",
    "def show(img):\n",
    "    Image.fromarray(img).show()\n",
    "\n",
    "# show(leftImg)\n",
    "\n",
    "# filteredLeftImg = converter.filter(leftImg)\n",
    "# leftEdgesImage, gLeftIn, rLeftIn = cv2.split(filteredLeftImg)\n",
    "leftBlurredIn, leftEdgesIn, gLeftIn, rLeftIn = converter.filter(leftImg)\n",
    "# show(leftBlurredIn)\n",
    "show(leftEdgesIn)\n",
    "\n",
    "# filteredRightImg = converter.filter(rightImg)\n",
    "# rightEdgesImage, gRightIn, rRightIn = cv2.split(filteredRightImg)\n",
    "rightBlurredIn, rightEdgesIn, gRightIn, rRightIn = converter.filter(rightImg)\n",
    "\n",
    "distances, croppedLeft, rawHeightsLeft = converter.getDistances(leftBlurredIn, leftEdgesIn, rightBlurredIn, rightEdgesIn)\n",
    "\n",
    "# for i in rawHeightsLeft:\n",
    "#     croppedLeft[i][rawHeightsLeft[i]] = 125\n",
    "# show(croppedLeft)\n",
    "# image = []\n",
    "\n",
    "print(rawHeightsLeft)\n",
    "\n",
    "# # print(heights)\n",
    "# # print(left)\n",
    "# print(distances)\n",
    "x = []\n",
    "y = []\n",
    "for i in distances:\n",
    "    # print(i)\n",
    "    # if i[2] < 200:\n",
    "    x.append(i[0])\n",
    "    y.append(i[1])\n",
    "# pyplot.xlim(-150, 50)\n",
    "# pyplot.ylim(0, 200)\n",
    "\n",
    "pyplot.scatter(x, y)\n",
    "# for i in range(len(rawHeightsLeft)):\n",
    "#     print(rawHeightsLeft[i])\n",
    "#     print(distances[i])\n",
    "\n",
    "# for i in distances:\n",
    "#     image.append([i[2], i[2], i[2]])\n",
    "# show(numpy.array(image))\n",
    "# show(numpy.concatenate(([distances], [distances], [distances]), axis=0))\n",
    "rBlobs, gBlobs = converter.getBlobs(rLeftIn, gLeftIn, rRightIn, gRightIn)\n",
    "\n",
    "print(gBlobs)\n",
    "\n",
    "outerWallLandmarks, innerWallLandmarks, rBlobLandmarks, gBlobLandmarks = converter.getLandmarks(distances, rBlobs, gBlobs)\n",
    "\n",
    "# for landmark in outerWallLandmarks:\n",
    "#     if landmark[2] < 30:\n",
    "#         print(landmark)\n",
    "print(outerWallLandmarks, innerWallLandmarks, rBlobLandmarks, gBlobLandmarks)\n",
    "\n",
    "print(converter.focalLength, converter.focalLength)"
   ]
  },
  {
   "cell_type": "code",
   "execution_count": null,
   "metadata": {},
   "outputs": [],
   "source": [
    "import math\n",
    "\n",
    "horizontalFov = 155\n",
    "verticalFov = 115\n",
    "imageWidth = 272\n",
    "imageHeight = 154\n",
    "focalLength = ((imageHeight / 2) / math.tan(math.pi * (verticalFov / 2) / 180))\n",
    "wallHeight = 10\n",
    "centerOffset = 10\n",
    "dist = wallHeight * math.sqrt(focalLength**2 + (imageWidth / 2 - 29)**2) / 36\n",
    "# return (dir * (3 + a[1] * dist), (10 + a[2] * dist), dist)\n",
    "\n",
    "print(focalLength)\n",
    "dist"
   ]
  }
 ],
 "metadata": {
  "kernelspec": {
   "display_name": "Python 3",
   "language": "python",
   "name": "python3"
  },
  "language_info": {
   "codemirror_mode": {
    "name": "ipython",
    "version": 3
   },
   "file_extension": ".py",
   "mimetype": "text/x-python",
   "name": "python",
   "nbconvert_exporter": "python",
   "pygments_lexer": "ipython3",
   "version": "3.10.5"
  },
  "orig_nbformat": 4
 },
 "nbformat": 4,
 "nbformat_minor": 2
}
