{
 "cells": [
  {
   "cell_type": "code",
   "execution_count": 2,
   "metadata": {},
   "outputs": [
    {
     "ename": "FileNotFoundError",
     "evalue": "[Errno 2] No such file or directory: 'banner.png'",
     "output_type": "error",
     "traceback": [
      "\u001b[1;31m---------------------------------------------------------------------------\u001b[0m",
      "\u001b[1;31mFileNotFoundError\u001b[0m                         Traceback (most recent call last)",
      "\u001b[1;32mc:\\Users\\guliz\\Documents\\GitHub\\SPARK_Future-Engineers_2023\\Program\\iamges.ipynb Cell 1\u001b[0m in \u001b[0;36m<cell line: 6>\u001b[1;34m()\u001b[0m\n\u001b[0;32m      <a href='vscode-notebook-cell:/c%3A/Users/guliz/Documents/GitHub/SPARK_Future-Engineers_2023/Program/iamges.ipynb#W0sZmlsZQ%3D%3D?line=2'>3</a>\u001b[0m \u001b[39mimport\u001b[39;00m \u001b[39mrandom\u001b[39;00m\n\u001b[0;32m      <a href='vscode-notebook-cell:/c%3A/Users/guliz/Documents/GitHub/SPARK_Future-Engineers_2023/Program/iamges.ipynb#W0sZmlsZQ%3D%3D?line=3'>4</a>\u001b[0m \u001b[39mimport\u001b[39;00m \u001b[39mmath\u001b[39;00m\n\u001b[1;32m----> <a href='vscode-notebook-cell:/c%3A/Users/guliz/Documents/GitHub/SPARK_Future-Engineers_2023/Program/iamges.ipynb#W0sZmlsZQ%3D%3D?line=5'>6</a>\u001b[0m apple \u001b[39m=\u001b[39m Image\u001b[39m.\u001b[39;49mopen(\u001b[39m\"\u001b[39;49m\u001b[39mbanner.png\u001b[39;49m\u001b[39m\"\u001b[39;49m)\n\u001b[0;32m      <a href='vscode-notebook-cell:/c%3A/Users/guliz/Documents/GitHub/SPARK_Future-Engineers_2023/Program/iamges.ipynb#W0sZmlsZQ%3D%3D?line=6'>7</a>\u001b[0m array \u001b[39m=\u001b[39m numpy\u001b[39m.\u001b[39marray(apple)\n\u001b[0;32m     <a href='vscode-notebook-cell:/c%3A/Users/guliz/Documents/GitHub/SPARK_Future-Engineers_2023/Program/iamges.ipynb#W0sZmlsZQ%3D%3D?line=9'>10</a>\u001b[0m \u001b[39mfor\u001b[39;00m i \u001b[39min\u001b[39;00m \u001b[39mrange\u001b[39m(\u001b[39mlen\u001b[39m(array)):\n",
      "File \u001b[1;32mc:\\Users\\guliz\\AppData\\Local\\Programs\\Python\\Python310\\lib\\site-packages\\PIL\\Image.py:3092\u001b[0m, in \u001b[0;36mopen\u001b[1;34m(fp, mode, formats)\u001b[0m\n\u001b[0;32m   3089\u001b[0m     filename \u001b[39m=\u001b[39m fp\n\u001b[0;32m   3091\u001b[0m \u001b[39mif\u001b[39;00m filename:\n\u001b[1;32m-> 3092\u001b[0m     fp \u001b[39m=\u001b[39m builtins\u001b[39m.\u001b[39;49mopen(filename, \u001b[39m\"\u001b[39;49m\u001b[39mrb\u001b[39;49m\u001b[39m\"\u001b[39;49m)\n\u001b[0;32m   3093\u001b[0m     exclusive_fp \u001b[39m=\u001b[39m \u001b[39mTrue\u001b[39;00m\n\u001b[0;32m   3095\u001b[0m \u001b[39mtry\u001b[39;00m:\n",
      "\u001b[1;31mFileNotFoundError\u001b[0m: [Errno 2] No such file or directory: 'banner.png'"
     ]
    }
   ],
   "source": [
    "from PIL import Image\n",
    "import numpy\n",
    "import random\n",
    "import math\n",
    "\n",
    "apple = Image.open(\"banner.png\")\n",
    "array = numpy.array(apple)\n",
    "\n",
    "\n",
    "for i in range(len(array)):\n",
    "    for j in range(len(array[i])):\n",
    "        if array[i][j][0] > 150:\n",
    "            array[i][j] = [0,min(255,2 * array[i][j][1]),min(255,2 * array[i][j][2]), 255]\n",
    "        array[i][j][0] += random.uniform(-0.1, 0.1)\n",
    "        array[i][j][1] += random.uniform(-0.1, 0.1)\n",
    "        array[i][j][2] += random.uniform(-0.1, 0.1)\n",
    "        array[i][j][3] += random.uniform(-0.1, 0.1)\n",
    "\n",
    "apple2 = Image.fromarray(array)\n",
    "apple2.show()"
   ]
  },
  {
   "cell_type": "code",
   "execution_count": 1,
   "metadata": {},
   "outputs": [
    {
     "name": "stdout",
     "output_type": "stream",
     "text": [
      "[]\n",
      "[array([-19.38820941,   7.18266397,  20.67591172,   1.21600697]), array([-19.69519257,   7.28000246,  20.9975962 ,   1.21673884]), array([-20.00924788,   7.36542827,  21.32180888,   1.21808759]), array([-20.33076323,   7.43579457,  21.64788614,   1.2201677 ]), array([-20.67084111,   7.56392696,  22.01128491,   1.22000762]), array([-21.01941054,   7.67879996,  22.37810511,   1.22053959]), array([-21.38401126,   7.8346168 ,  22.77404571,   1.21960661]), array([-21.75822053,   7.97616685,  23.17411052,   1.21942638]), array([-22.14612494,   8.13212007,  23.59199497,   1.21887898]), array([-22.54832402,   8.30393049,  24.02877812,   1.21793663]), array([-22.96543077,   8.49321691,  24.48562321,   1.21656933]), array([-23.39542867,   8.66096748,  24.94711287,   1.21624126]), array([-23.84907664,   8.97582183,  25.48222585,   1.21083447]), array([-24.31419146,   9.23252804,  26.00806568,   1.20789605]), array([-24.79766264,   9.5671435 ,  26.57920818,   1.20258374]), array([-25.29715438,   9.8834227 ,  27.15930897,   1.19833883]), array([-25.81412397,  10.29294649,  27.79053335,   1.19138255]), array([-26.34722634,  10.74916668,  28.45559559,   1.1834288 ]), array([-26.89958385,  11.18574912,  29.13260364,   1.1767153 ]), array([-27.45921795,  11.82495049,  29.89712536,   1.16416094]), array([-28.03573414,  12.45800171,  30.67905141,   1.15264124]), array([-67.58456947,  60.13080577,  90.46207953,   0.84369434]), array([-33.91226513,  78.84692928,  85.8305306 ,   0.4061846 ]), array([-26.91875713,  81.57765618,  85.90421103,   0.3187269 ]), array([12.20541711, 78.40821112, 79.35250329, -0.15442567]), array([12.95411805, 78.23748365, 79.30266719, -0.16408566]), array([28.41856827, 72.63993635, 78.00112419, -0.37291902]), array([31.59539224, 65.50754893, 72.72900232, -0.44940125]), array([30.00608317, 61.67685307, 68.5886232 , -0.45279326]), array([28.47741978, 58.37085614, 64.94705755, -0.45389702]), array([27.19552585, 55.37636337, 61.69390769, -0.45650511]), array([25.86177931, 52.81701798, 58.8087495 , -0.45533226]), array([24.73190392, 50.46327537, 56.19794687, -0.45569393]), array([23.76905069, 48.2888344 , 53.8217363 , -0.45740961]), array([22.74980274, 46.40953712, 51.68557497, -0.45577427]), array([21.87435978, 44.65258013, 49.72263597, -0.45551805]), array([21.06369344, 43.04549491, 47.92279012, -0.45507976]), array([20.2587676 , 41.6082936 , 46.27815642, -0.45310676]), array([19.56022969, 40.24736332, 44.74877473, -0.45238524]), array([18.86204263, 39.02412093, 43.34349625, -0.45023358]), array([18.25270956, 37.8575726 , 42.02805264, -0.44925907]), array([17.64040987, 36.80456765, 40.81372637, -0.44695047]), array([17.06605644, 35.82316145, 39.68058944, -0.44458777]), array([16.5612579 , 34.8787762 , 38.61093488, -0.44330421]), array([16.05058515, 34.02186239, 37.61792663, -0.44081184]), array([15.5685293 , 33.21808303, 36.68542142, -0.43827616]), array([15.14224659, 32.43882369, 35.7989513 , -0.43673167]), array([14.70883263, 31.72876748, 34.97233826, -0.43408977]), array([14.32405415, 31.03742335, 34.18333184, -0.43238359]), array([13.93192552, 30.40594791, 33.44578026, -0.42964992]), array([13.55875276, 29.80864812, 32.74744691, -0.4268879 ])] [array([-29.33902338,  13.05755773,  32.11351906,   1.15206003])] [] []\n"
     ]
    },
    {
     "data": {
      "image/png": "[encoded data removed]",
      "text/plain": [
       "<Figure size 432x288 with 1 Axes>"
      ]
     },
     "metadata": {
      "needs_background": "light"
     },
     "output_type": "display_data"
    }
   ],
   "source": [
    "from PIL import Image\n",
    "import numpy\n",
    "from Controller import converter\n",
    "import cv2\n",
    "\n",
    "from matplotlib import pyplot\n",
    "\n",
    "leftImg, rightImg = numpy.split(numpy.array(Image.open(\"img9.png\")), 2, axis=1)\n",
    "\n",
    "def show(img):\n",
    "    Image.fromarray(img).show()\n",
    "\n",
    "# show(leftImg)\n",
    "\n",
    "# filteredLeftImg = converter.filter(leftImg)\n",
    "# leftEdgesImage, gLeftIn, rLeftIn = cv2.split(filteredLeftImg)\n",
    "leftBlurredIn, leftEdgesIn, gLeftIn, rLeftIn = converter.filter(leftImg)\n",
    "# show(leftBlurredIn)\n",
    "# show(leftEdgesImage)\n",
    "\n",
    "# filteredRightImg = converter.filter(rightImg)\n",
    "# rightEdgesImage, gRightIn, rRightIn = cv2.split(filteredRightImg)\n",
    "rightBlurredIn, rightEdgesIn, gRightIn, rRightIn = converter.filter(rightImg)\n",
    "\n",
    "distances, croppedLeft, rawHeightsLeft = converter.getDistances(leftBlurredIn, leftEdgesIn, rightBlurredIn, rightEdgesIn)\n",
    "\n",
    "# for i in rawHeightsLeft:\n",
    "#     croppedLeft[i][rawHeightsLeft[i]] = 125\n",
    "# show(croppedLeft)\n",
    "# image = []\n",
    "\n",
    "# print(rawHeightsLeft)\n",
    "\n",
    "# # print(heights)\n",
    "# # print(left)\n",
    "# print(distances)\n",
    "x = []\n",
    "y = []\n",
    "for i in distances:\n",
    "    # print(i)\n",
    "    # if i[2] < 200:\n",
    "    x.append(i[0])\n",
    "    y.append(i[1])\n",
    "# pyplot.xlim(-150, 50)\n",
    "# pyplot.ylim(0, 200)\n",
    "\n",
    "pyplot.scatter(x, y)\n",
    "# for i in range(len(rawHeightsLeft)):\n",
    "#     print(rawHeightsLeft[i])\n",
    "#     print(distances[i])\n",
    "\n",
    "# for i in distances:\n",
    "#     image.append([i[2], i[2], i[2]])\n",
    "# show(numpy.array(image))\n",
    "# show(numpy.concatenate(([distances], [distances], [distances]), axis=0))\n",
    "rBlobs, gBlobs = converter.getBlobs(rLeftIn, gLeftIn, rRightIn, gRightIn)\n",
    "\n",
    "print(gBlobs)\n",
    "\n",
    "outerWallLandmarks, innerWallLandmarks, rBlobLandmarks, gBlobLandmarks = converter.getLandmarks(distances, rBlobs, gBlobs)\n",
    "\n",
    "# for landmark in outerWallLandmarks:\n",
    "#     if landmark[2] < 30:\n",
    "#         print(landmark)\n",
    "print(outerWallLandmarks, innerWallLandmarks, rBlobLandmarks, gBlobLandmarks)\n",
    "\n",
    "print(converter.focalLength, converter.focalLengthA)"
   ]
  },
  {
   "cell_type": "code",
   "execution_count": null,
   "metadata": {},
   "outputs": [],
   "source": [
    "import math\n",
    "\n",
    "horizontalFov = 155\n",
    "verticalFov = 115\n",
    "imageWidth = 272\n",
    "imageHeight = 154\n",
    "focalLength = ((imageHeight / 2) / math.tan(math.pi * (verticalFov / 2) / 180))\n",
    "wallHeight = 10\n",
    "centerOffset = 10\n",
    "dist = wallHeight * math.sqrt(focalLength**2 + (imageWidth / 2 - 29)**2) / 36\n",
    "# return (dir * (3 + a[1] * dist), (10 + a[2] * dist), dist)\n",
    "\n",
    "print(focalLength)\n",
    "dist"
   ]
  }
 ],
 "metadata": {
  "kernelspec": {
   "display_name": "Python 3",
   "language": "python",
   "name": "python3"
  },
  "language_info": {
   "codemirror_mode": {
    "name": "ipython",
    "version": 3
   },
   "file_extension": ".py",
   "mimetype": "text/x-python",
   "name": "python",
   "nbconvert_exporter": "python",
   "pygments_lexer": "ipython3",
   "version": "3.10.5"
  },
  "orig_nbformat": 4
 },
 "nbformat": 4,
 "nbformat_minor": 2
}
