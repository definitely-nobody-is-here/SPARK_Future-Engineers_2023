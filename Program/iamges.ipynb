{
 "cells": [
  {
   "cell_type": "code",
   "execution_count": 2,
   "metadata": {},
   "outputs": [
    {
     "ename": "FileNotFoundError",
     "evalue": "[Errno 2] No such file or directory: 'banner.png'",
     "output_type": "error",
     "traceback": [
      "\u001b[1;31m---------------------------------------------------------------------------\u001b[0m",
      "\u001b[1;31mFileNotFoundError\u001b[0m                         Traceback (most recent call last)",
      "\u001b[1;32mc:\\Users\\guliz\\Documents\\GitHub\\SPARK_Future-Engineers_2023\\Program\\iamges.ipynb Cell 1\u001b[0m in \u001b[0;36m<cell line: 6>\u001b[1;34m()\u001b[0m\n\u001b[0;32m      <a href='vscode-notebook-cell:/c%3A/Users/guliz/Documents/GitHub/SPARK_Future-Engineers_2023/Program/iamges.ipynb#W0sZmlsZQ%3D%3D?line=2'>3</a>\u001b[0m \u001b[39mimport\u001b[39;00m \u001b[39mrandom\u001b[39;00m\n\u001b[0;32m      <a href='vscode-notebook-cell:/c%3A/Users/guliz/Documents/GitHub/SPARK_Future-Engineers_2023/Program/iamges.ipynb#W0sZmlsZQ%3D%3D?line=3'>4</a>\u001b[0m \u001b[39mimport\u001b[39;00m \u001b[39mmath\u001b[39;00m\n\u001b[1;32m----> <a href='vscode-notebook-cell:/c%3A/Users/guliz/Documents/GitHub/SPARK_Future-Engineers_2023/Program/iamges.ipynb#W0sZmlsZQ%3D%3D?line=5'>6</a>\u001b[0m apple \u001b[39m=\u001b[39m Image\u001b[39m.\u001b[39;49mopen(\u001b[39m\"\u001b[39;49m\u001b[39mbanner.png\u001b[39;49m\u001b[39m\"\u001b[39;49m)\n\u001b[0;32m      <a href='vscode-notebook-cell:/c%3A/Users/guliz/Documents/GitHub/SPARK_Future-Engineers_2023/Program/iamges.ipynb#W0sZmlsZQ%3D%3D?line=6'>7</a>\u001b[0m array \u001b[39m=\u001b[39m numpy\u001b[39m.\u001b[39marray(apple)\n\u001b[0;32m     <a href='vscode-notebook-cell:/c%3A/Users/guliz/Documents/GitHub/SPARK_Future-Engineers_2023/Program/iamges.ipynb#W0sZmlsZQ%3D%3D?line=9'>10</a>\u001b[0m \u001b[39mfor\u001b[39;00m i \u001b[39min\u001b[39;00m \u001b[39mrange\u001b[39m(\u001b[39mlen\u001b[39m(array)):\n",
      "File \u001b[1;32mc:\\Users\\guliz\\AppData\\Local\\Programs\\Python\\Python310\\lib\\site-packages\\PIL\\Image.py:3092\u001b[0m, in \u001b[0;36mopen\u001b[1;34m(fp, mode, formats)\u001b[0m\n\u001b[0;32m   3089\u001b[0m     filename \u001b[39m=\u001b[39m fp\n\u001b[0;32m   3091\u001b[0m \u001b[39mif\u001b[39;00m filename:\n\u001b[1;32m-> 3092\u001b[0m     fp \u001b[39m=\u001b[39m builtins\u001b[39m.\u001b[39;49mopen(filename, \u001b[39m\"\u001b[39;49m\u001b[39mrb\u001b[39;49m\u001b[39m\"\u001b[39;49m)\n\u001b[0;32m   3093\u001b[0m     exclusive_fp \u001b[39m=\u001b[39m \u001b[39mTrue\u001b[39;00m\n\u001b[0;32m   3095\u001b[0m \u001b[39mtry\u001b[39;00m:\n",
      "\u001b[1;31mFileNotFoundError\u001b[0m: [Errno 2] No such file or directory: 'banner.png'"
     ]
    }
   ],
   "source": [
    "from PIL import Image\n",
    "import numpy\n",
    "import random\n",
    "import math\n",
    "\n",
    "apple = Image.open(\"banner.png\")\n",
    "array = numpy.array(apple)\n",
    "\n",
    "\n",
    "for i in range(len(array)):\n",
    "    for j in range(len(array[i])):\n",
    "        if array[i][j][0] > 150:\n",
    "            array[i][j] = [0,min(255,2 * array[i][j][1]),min(255,2 * array[i][j][2]), 255]\n",
    "        array[i][j][0] += random.uniform(-0.1, 0.1)\n",
    "        array[i][j][1] += random.uniform(-0.1, 0.1)\n",
    "        array[i][j][2] += random.uniform(-0.1, 0.1)\n",
    "        array[i][j][3] += random.uniform(-0.1, 0.1)\n",
    "\n",
    "apple2 = Image.fromarray(array)\n",
    "apple2.show()"
   ]
  },
  {
   "cell_type": "code",
   "execution_count": 1,
   "metadata": {},
   "outputs": [
    {
     "ename": "ValueError",
     "evalue": "attempt to get argmax of an empty sequence",
     "output_type": "error",
     "traceback": [
      "\u001b[1;31m---------------------------------------------------------------------------\u001b[0m",
      "\u001b[1;31mValueError\u001b[0m                                Traceback (most recent call last)",
      "\u001b[1;32mc:\\Users\\guliz\\Documents\\GitHub\\SPARK_Future-Engineers_2023\\Program\\iamges.ipynb Cell 2\u001b[0m in \u001b[0;36m<cell line: 29>\u001b[1;34m()\u001b[0m\n\u001b[0;32m     <a href='vscode-notebook-cell:/c%3A/Users/guliz/Documents/GitHub/SPARK_Future-Engineers_2023/Program/iamges.ipynb#W1sZmlsZQ%3D%3D?line=25'>26</a>\u001b[0m show(rightEdgesIn)\n\u001b[0;32m     <a href='vscode-notebook-cell:/c%3A/Users/guliz/Documents/GitHub/SPARK_Future-Engineers_2023/Program/iamges.ipynb#W1sZmlsZQ%3D%3D?line=27'>28</a>\u001b[0m \u001b[39m# distances, croppedLeft, rawHeightsLeft = converter.getDistances(leftBlurredIn, leftEdgesIn, rightBlurredIn, rightEdgesIn)\u001b[39;00m\n\u001b[1;32m---> <a href='vscode-notebook-cell:/c%3A/Users/guliz/Documents/GitHub/SPARK_Future-Engineers_2023/Program/iamges.ipynb#W1sZmlsZQ%3D%3D?line=28'>29</a>\u001b[0m leftHeights, rightHeights \u001b[39m=\u001b[39m converter\u001b[39m.\u001b[39;49mgetHeights(leftEdgesIn, rightEdgesIn)\n\u001b[0;32m     <a href='vscode-notebook-cell:/c%3A/Users/guliz/Documents/GitHub/SPARK_Future-Engineers_2023/Program/iamges.ipynb#W1sZmlsZQ%3D%3D?line=29'>30</a>\u001b[0m \u001b[39m# x = round(converter.focalLength / math.sqrt(3) + converter.imageWidth / 2)\u001b[39;00m\n\u001b[0;32m     <a href='vscode-notebook-cell:/c%3A/Users/guliz/Documents/GitHub/SPARK_Future-Engineers_2023/Program/iamges.ipynb#W1sZmlsZQ%3D%3D?line=30'>31</a>\u001b[0m \u001b[39m# print(leftHeights[x], x)\u001b[39;00m\n\u001b[0;32m     <a href='vscode-notebook-cell:/c%3A/Users/guliz/Documents/GitHub/SPARK_Future-Engineers_2023/Program/iamges.ipynb#W1sZmlsZQ%3D%3D?line=31'>32</a>\u001b[0m \u001b[39m# x = round(converter.imageWidth / 2 - converter.focalLength * math.sqrt(3))\u001b[39;00m\n\u001b[1;32m   (...)\u001b[0m\n\u001b[0;32m     <a href='vscode-notebook-cell:/c%3A/Users/guliz/Documents/GitHub/SPARK_Future-Engineers_2023/Program/iamges.ipynb#W1sZmlsZQ%3D%3D?line=36'>37</a>\u001b[0m \u001b[39m# show(croppedLeft)\u001b[39;00m\n\u001b[0;32m     <a href='vscode-notebook-cell:/c%3A/Users/guliz/Documents/GitHub/SPARK_Future-Engineers_2023/Program/iamges.ipynb#W1sZmlsZQ%3D%3D?line=37'>38</a>\u001b[0m \u001b[39m# image = []\u001b[39;00m\n\u001b[0;32m     <a href='vscode-notebook-cell:/c%3A/Users/guliz/Documents/GitHub/SPARK_Future-Engineers_2023/Program/iamges.ipynb#W1sZmlsZQ%3D%3D?line=39'>40</a>\u001b[0m slam\u001b[39m.\u001b[39mfindStartingPosition(leftHeights, rightHeights)\n",
      "File \u001b[1;32mc:\\Users\\guliz\\Documents\\GitHub\\SPARK_Future-Engineers_2023\\Program\\Controller\\converter.py:157\u001b[0m, in \u001b[0;36mgetHeights\u001b[1;34m(leftEdgesIn, rightEdgesIn)\u001b[0m\n\u001b[0;32m    155\u001b[0m \u001b[39m# get wall heights by finding the bottom edge of the wall\u001b[39;00m\n\u001b[0;32m    156\u001b[0m rawHeightsLeft \u001b[39m=\u001b[39m numpy\u001b[39m.\u001b[39marray(numpy\u001b[39m.\u001b[39margmax(croppedLeft, axis\u001b[39m=\u001b[39m\u001b[39m1\u001b[39m), dtype\u001b[39m=\u001b[39m\u001b[39m\"\u001b[39m\u001b[39mfloat\u001b[39m\u001b[39m\"\u001b[39m)\n\u001b[1;32m--> 157\u001b[0m rawHeightsRight \u001b[39m=\u001b[39m numpy\u001b[39m.\u001b[39marray(numpy\u001b[39m.\u001b[39;49margmax(croppedRight, axis\u001b[39m=\u001b[39;49m\u001b[39m1\u001b[39;49m), dtype\u001b[39m=\u001b[39m\u001b[39m\"\u001b[39m\u001b[39mfloat\u001b[39m\u001b[39m\"\u001b[39m)\n\u001b[0;32m    159\u001b[0m \u001b[39mreturn\u001b[39;00m [rawHeightsLeft, rawHeightsRight]\n",
      "File \u001b[1;32m<__array_function__ internals>:180\u001b[0m, in \u001b[0;36margmax\u001b[1;34m(*args, **kwargs)\u001b[0m\n",
      "File \u001b[1;32mc:\\Users\\guliz\\AppData\\Local\\Programs\\Python\\Python310\\lib\\site-packages\\numpy\\core\\fromnumeric.py:1216\u001b[0m, in \u001b[0;36margmax\u001b[1;34m(a, axis, out, keepdims)\u001b[0m\n\u001b[0;32m   1129\u001b[0m \u001b[39m\"\"\"\u001b[39;00m\n\u001b[0;32m   1130\u001b[0m \u001b[39mReturns the indices of the maximum values along an axis.\u001b[39;00m\n\u001b[0;32m   1131\u001b[0m \n\u001b[1;32m   (...)\u001b[0m\n\u001b[0;32m   1213\u001b[0m \u001b[39m(2, 1, 4)\u001b[39;00m\n\u001b[0;32m   1214\u001b[0m \u001b[39m\"\"\"\u001b[39;00m\n\u001b[0;32m   1215\u001b[0m kwds \u001b[39m=\u001b[39m {\u001b[39m'\u001b[39m\u001b[39mkeepdims\u001b[39m\u001b[39m'\u001b[39m: keepdims} \u001b[39mif\u001b[39;00m keepdims \u001b[39mis\u001b[39;00m \u001b[39mnot\u001b[39;00m np\u001b[39m.\u001b[39m_NoValue \u001b[39melse\u001b[39;00m {}\n\u001b[1;32m-> 1216\u001b[0m \u001b[39mreturn\u001b[39;00m _wrapfunc(a, \u001b[39m'\u001b[39m\u001b[39margmax\u001b[39m\u001b[39m'\u001b[39m, axis\u001b[39m=\u001b[39maxis, out\u001b[39m=\u001b[39mout, \u001b[39m*\u001b[39m\u001b[39m*\u001b[39mkwds)\n",
      "File \u001b[1;32mc:\\Users\\guliz\\AppData\\Local\\Programs\\Python\\Python310\\lib\\site-packages\\numpy\\core\\fromnumeric.py:57\u001b[0m, in \u001b[0;36m_wrapfunc\u001b[1;34m(obj, method, *args, **kwds)\u001b[0m\n\u001b[0;32m     54\u001b[0m     \u001b[39mreturn\u001b[39;00m _wrapit(obj, method, \u001b[39m*\u001b[39margs, \u001b[39m*\u001b[39m\u001b[39m*\u001b[39mkwds)\n\u001b[0;32m     56\u001b[0m \u001b[39mtry\u001b[39;00m:\n\u001b[1;32m---> 57\u001b[0m     \u001b[39mreturn\u001b[39;00m bound(\u001b[39m*\u001b[39margs, \u001b[39m*\u001b[39m\u001b[39m*\u001b[39mkwds)\n\u001b[0;32m     58\u001b[0m \u001b[39mexcept\u001b[39;00m \u001b[39mTypeError\u001b[39;00m:\n\u001b[0;32m     59\u001b[0m     \u001b[39m# A TypeError occurs if the object does have such a method in its\u001b[39;00m\n\u001b[0;32m     60\u001b[0m     \u001b[39m# class, but its signature is not identical to that of NumPy's. This\u001b[39;00m\n\u001b[1;32m   (...)\u001b[0m\n\u001b[0;32m     64\u001b[0m     \u001b[39m# Call _wrapit from within the except clause to ensure a potential\u001b[39;00m\n\u001b[0;32m     65\u001b[0m     \u001b[39m# exception has a traceback chain.\u001b[39;00m\n\u001b[0;32m     66\u001b[0m     \u001b[39mreturn\u001b[39;00m _wrapit(obj, method, \u001b[39m*\u001b[39margs, \u001b[39m*\u001b[39m\u001b[39m*\u001b[39mkwds)\n",
      "\u001b[1;31mValueError\u001b[0m: attempt to get argmax of an empty sequence"
     ]
    }
   ],
   "source": [
    "from PIL import Image\n",
    "import numpy\n",
    "from Controller import converter\n",
    "from Controller import slam\n",
    "import cv2\n",
    "import math\n",
    "\n",
    "from matplotlib import pyplot\n",
    "\n",
    "leftImg, rightImg = numpy.split(numpy.array(Image.open(\"img.png\")), 2, axis=1)\n",
    "\n",
    "def show(img):\n",
    "    Image.fromarray(img).show()\n",
    "\n",
    "# show(leftImg)\n",
    "\n",
    "# filteredLeftImg = converter.filter(leftImg)\n",
    "# leftEdgesImage, gLeftIn, rLeftIn = cv2.split(filteredLeftImg)\n",
    "leftEdgesIn, gLeftIn, rLeftIn = converter.filter(leftImg)\n",
    "# show(leftBlurredIn)\n",
    "show(leftEdgesIn)\n",
    "\n",
    "# filteredRightImg = converter.filter(rightImg)\n",
    "# rightEdgesImage, gRightIn, rRightIn = cv2.split(filteredRightImg)\n",
    "rightEdgesIn, gRightIn, rRightIn = converter.filter(rightImg)\n",
    "show(rightEdgesIn)\n",
    "\n",
    "# distances, croppedLeft, rawHeightsLeft = converter.getDistances(leftBlurredIn, leftEdgesIn, rightBlurredIn, rightEdgesIn)\n",
    "leftHeights, rightHeights = converter.getHeights(leftEdgesIn, rightEdgesIn)\n",
    "# x = round(converter.focalLength / math.sqrt(3) + converter.imageWidth / 2)\n",
    "# print(leftHeights[x], x)\n",
    "# x = round(converter.imageWidth / 2 - converter.focalLength * math.sqrt(3))\n",
    "# print(leftHeights[x], x)\n",
    "# show(croppedLeft)\n",
    "# for i in rawHeightsLeft:\n",
    "#     croppedLeft[i][rawHeightsLeft[i]] = 125\n",
    "# show(croppedLeft)\n",
    "# image = []\n",
    "\n",
    "slam.findStartingPosition(leftHeights, rightHeights)\n",
    "\n",
    "print(slam.carX, slam.carY)\n",
    "\n",
    "# print(rawHeightsLeft)\n",
    "\n",
    "# # # print(heights)\n",
    "# # # print(left)\n",
    "# # print(distances)\n",
    "# x = []\n",
    "# y = []\n",
    "# for i in distances:\n",
    "#     # print(i)\n",
    "#     # if i[2] < 200:\n",
    "#     x.append(i[0])\n",
    "#     y.append(i[1])\n",
    "# # pyplot.xlim(-50, 50)\n",
    "# # pyplot.ylim(-50, 50)\n",
    "# x.append(0)\n",
    "# y.append(0)\n",
    "# pyplot.axes().set_aspect('equal')\n",
    "# pyplot.scatter(x, y)\n",
    "# for i in range(len(rawHeightsLeft)):\n",
    "#     print(rawHeightsLeft[i])\n",
    "#     print(distances[i])\n",
    "\n",
    "# for i in distances:\n",
    "#     image.append([i[2], i[2], i[2]])\n",
    "# show(numpy.array(image))\n",
    "# show(numpy.concatenate(([distances], [distances], [distances]), axis=0))\n",
    "# leftBlobs, gBlobs = converter.getBlobs(rLeftIn, gLeftIn, rRightIn, gRightIn)\n",
    "\n",
    "# landmarks = converter.getWallLandmarks(leftHeights, leftBlobs)\n",
    "\n",
    "\n",
    "# corners = cv2.goodFeaturesToTrack(leftEdgesIn, 27, 0.5, 10)\n",
    "# corners = numpy.int0(corners)\n",
    "# print(corners)\n",
    "# print(landmarks)\n",
    "# for l in corners:\n",
    "#     for i in range(-3, 3):\n",
    "#         for j in range(-3, 3):\n",
    "#             leftImg[l[0][1] + i][l[0][0] + j] = [255, 0, 0]\n",
    "# for l in landmarks:\n",
    "#     # leftEdgesIn[max(round(l[1]), 0)][l[0]] = 255\n",
    "#     # leftEdgesIn[round(converter.imageHeight / 2 + 15 + leftHeights[l[0]]) + 2][l[0]] = 255\n",
    "#     for i in range(-3, 3):\n",
    "#         for j in range(-3, 3): \n",
    "#             if l[1] > 0:\n",
    "#                 leftImg[round(converter.imageHeight / 2 + 15 + leftHeights[l[0]]) + j][l[0] + i] = [255, 0, 0]\n",
    "#             else:\n",
    "#                 leftImg[round(converter.imageHeight / 2 + 15 + leftHeights[l[0]]) + j][l[0] + i] = [0, 255, 0]\n",
    "\n",
    "# show(leftEdgesIn)\n",
    "# show(leftImg)\n",
    "# outerWallLandmarks, innerWallLandmarks, rBlobLandmarks, gBlobLandmarks = converter.getLandmarks(distances, rBlobs, gBlobs)\n",
    "\n",
    "# # for landmark in outerWallLandmarks:\n",
    "# #     if landmark[2] < 30:\n",
    "# #         print(landmark)\n",
    "# print(outerWallLandmarks, innerWallLandmarks, rBlobLandmarks, gBlobLandmarks)\n",
    "\n",
    "# print(converter.verticalFocalLength, converter.horizontalFocalLength)"
   ]
  },
  {
   "cell_type": "code",
   "execution_count": 2,
   "metadata": {},
   "outputs": [
    {
     "name": "stdout",
     "output_type": "stream",
     "text": [
      "49.05441008217698\n"
     ]
    },
    {
     "data": {
      "text/plain": [
       "32.69685768082119"
      ]
     },
     "execution_count": 2,
     "metadata": {},
     "output_type": "execute_result"
    }
   ],
   "source": [
    "import math\n",
    "\n",
    "horizontalFov = 155\n",
    "verticalFov = 115\n",
    "imageWidth = 272\n",
    "imageHeight = 154\n",
    "focalLength = ((imageHeight / 2) / math.tan(math.pi * (verticalFov / 2) / 180))\n",
    "wallHeight = 10\n",
    "centerOffset = 10\n",
    "dist = wallHeight * math.sqrt(focalLength**2 + (imageWidth / 2 - 29)**2) / 36\n",
    "# return (dir * (3 + a[1] * dist), (10 + a[2] * dist), dist)\n",
    "\n",
    "print(focalLength)\n",
    "dist"
   ]
  }
 ],
 "metadata": {
  "kernelspec": {
   "display_name": "Python 3",
   "language": "python",
   "name": "python3"
  },
  "language_info": {
   "codemirror_mode": {
    "name": "ipython",
    "version": 3
   },
   "file_extension": ".py",
   "mimetype": "text/x-python",
   "name": "python",
   "nbconvert_exporter": "python",
   "pygments_lexer": "ipython3",
   "version": "3.10.5"
  },
  "orig_nbformat": 4
 },
 "nbformat": 4,
 "nbformat_minor": 2
}
