{
 "cells": [
  {
   "cell_type": "code",
   "execution_count": null,
   "metadata": {},
   "outputs": [],
   "source": [
    "from PIL import Image\n",
    "import numpy\n",
    "import random\n",
    "import math\n",
    "\n",
    "apple = Image.open(\"banner.png\")\n",
    "array = numpy.array(apple)\n",
    "\n",
    "\n",
    "for i in range(len(array)):\n",
    "    for j in range(len(array[i])):\n",
    "        if array[i][j][0] > 150:\n",
    "            array[i][j] = [0,min(255,2 * array[i][j][1]),min(255,2 * array[i][j][2]), 255]\n",
    "        array[i][j][0] += random.uniform(-0.1, 0.1)\n",
    "        array[i][j][1] += random.uniform(-0.1, 0.1)\n",
    "        array[i][j][2] += random.uniform(-0.1, 0.1)\n",
    "        array[i][j][3] += random.uniform(-0.1, 0.1)\n",
    "\n",
    "apple2 = Image.fromarray(array)\n",
    "apple2.show()"
   ]
  },
  {
   "cell_type": "code",
   "execution_count": 2,
   "metadata": {},
   "outputs": [
    {
     "ename": "ModuleNotFoundError",
     "evalue": "No module named 'Jetson'",
     "output_type": "error",
     "traceback": [
      "\u001b[1;31m---------------------------------------------------------------------------\u001b[0m",
      "\u001b[1;31mModuleNotFoundError\u001b[0m                       Traceback (most recent call last)",
      "Cell \u001b[1;32mIn[2], line 3\u001b[0m\n\u001b[0;32m      1\u001b[0m \u001b[39m# from PIL import Image\u001b[39;00m\n\u001b[0;32m      2\u001b[0m \u001b[39m# import numpy\u001b[39;00m\n\u001b[1;32m----> 3\u001b[0m \u001b[39mfrom\u001b[39;00m \u001b[39mController\u001b[39;00m \u001b[39mimport\u001b[39;00m converter\n\u001b[0;32m      4\u001b[0m \u001b[39mimport\u001b[39;00m \u001b[39mcv2\u001b[39;00m\n\u001b[0;32m      6\u001b[0m leftImg, rightImg \u001b[39m=\u001b[39m numpy\u001b[39m.\u001b[39msplit(numpy\u001b[39m.\u001b[39marray(Image\u001b[39m.\u001b[39mopen(\u001b[39m\"\u001b[39m\u001b[39mimg1.png\u001b[39m\u001b[39m\"\u001b[39m)), \u001b[39m2\u001b[39m, axis\u001b[39m=\u001b[39m\u001b[39m1\u001b[39m)\n",
      "File \u001b[1;32mc:\\Users\\jacki\\My Drive\\SPARK_Future-Engineers_2023\\Program\\Controller\\converter.py:1\u001b[0m\n\u001b[1;32m----> 1\u001b[0m \u001b[39mfrom\u001b[39;00m \u001b[39mIO\u001b[39;00m \u001b[39mimport\u001b[39;00m io\n\u001b[0;32m      2\u001b[0m \u001b[39mfrom\u001b[39;00m \u001b[39mUtil\u001b[39;00m \u001b[39mimport\u001b[39;00m server\n\u001b[0;32m      3\u001b[0m \u001b[39mfrom\u001b[39;00m \u001b[39mController\u001b[39;00m \u001b[39mimport\u001b[39;00m slam\n",
      "File \u001b[1;32mc:\\Users\\jacki\\My Drive\\SPARK_Future-Engineers_2023\\Program\\IO\\io.py:1\u001b[0m\n\u001b[1;32m----> 1\u001b[0m \u001b[39mimport\u001b[39;00m \u001b[39mJetson\u001b[39;00m\u001b[39m.\u001b[39;00m\u001b[39mGPIO\u001b[39;00m \u001b[39mas\u001b[39;00m \u001b[39mGPIO\u001b[39;00m\n\u001b[0;32m      2\u001b[0m \u001b[39mfrom\u001b[39;00m \u001b[39mthreading\u001b[39;00m \u001b[39mimport\u001b[39;00m Thread\n\u001b[0;32m      3\u001b[0m \u001b[39mimport\u001b[39;00m \u001b[39mtime\u001b[39;00m\n",
      "\u001b[1;31mModuleNotFoundError\u001b[0m: No module named 'Jetson'"
     ]
    }
   ],
   "source": [
    "from PIL import Image\n",
    "import numpy\n",
    "from Controller import converter\n",
    "import cv2\n",
    "\n",
    "leftImg, rightImg = numpy.split(numpy.array(Image.open(\"img1.png\")), 2, axis=1)\n",
    "\n",
    "def show(img):\n",
    "    Image.fromarray(img).show()\n",
    "\n",
    "filteredLeftImg = converter.filter(leftImg)\n",
    "leftEdgesImage, gLeftIn, rLeftIn = cv2.split(filteredLeftImg)\n",
    "\n",
    "show(leftEdgesImage)\n",
    "\n",
    "filteredRightImg = converter.filter(rightImg)\n",
    "rightEdgesImage, gRightIn, rRightIn = cv2.split(filteredRightImg)\n",
    "\n",
    "distances, heights = converter.getDistances(leftEdgesImage, rightEdgesImage)\n",
    "\n",
    "# image = []\n",
    "\n",
    "print(heights)\n",
    "print(distances)\n",
    "\n",
    "for i in distances:\n",
    "    print(i)\n",
    "    # image.append([distances[i][2], distances[i][2], distances[i][2]])\n",
    "# show(image)\n",
    "# show(numpy.concatenate(([distances], [distances], [distances]), axis=0))\n",
    "rBlobs, gBlobs = converter.getBlobs(rLeftIn, gLeftIn, rRightIn, gRightIn)\n",
    "\n",
    "outerWallLandmarks, innerWallLandmarks, rBlobLandmarks, gBlobLandmarks = converter.getLandmarks(distances, rBlobs, gBlobs)\n",
    "\n",
    "print(outerWallLandmarks, innerWallLandmarks, rBlobLandmarks, gBlobLandmarks)"
   ]
  },
  {
   "cell_type": "code",
   "execution_count": null,
   "metadata": {},
   "outputs": [],
   "source": [
    "import math\n",
    "\n",
    "horizontalFov = 155\n",
    "verticalFov = 115\n",
    "imageWidth = 272\n",
    "imageHeight = 154\n",
    "focalLength = ((imageHeight / 2) / math.tan(math.pi * (verticalFov / 2) / 180))\n",
    "wallHeight = 10\n",
    "centerOffset = 10\n",
    "dist = wallHeight * math.sqrt(focalLength**2 + (imageWidth / 2 - 29)**2) / 36\n",
    "# return (dir * (3 + a[1] * dist), (10 + a[2] * dist), dist)\n",
    "\n",
    "print(focalLength)\n",
    "dist"
   ]
  }
 ],
 "metadata": {
  "kernelspec": {
   "display_name": "Python 3",
   "language": "python",
   "name": "python3"
  },
  "language_info": {
   "codemirror_mode": {
    "name": "ipython",
    "version": 3
   },
   "file_extension": ".py",
   "mimetype": "text/x-python",
   "name": "python",
   "nbconvert_exporter": "python",
   "pygments_lexer": "ipython3",
   "version": "3.11.4"
  },
  "orig_nbformat": 4
 },
 "nbformat": 4,
 "nbformat_minor": 2
}
