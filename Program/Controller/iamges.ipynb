{
 "cells": [
  {
   "cell_type": "code",
   "execution_count": 10,
   "metadata": {},
   "outputs": [],
   "source": [
    "from PIL import Image\n",
    "import numpy\n",
    "import random\n",
    "import math\n",
    "import cv2\n",
    "\n",
    "apple = Image.open(\"banner.png\")\n",
    "array = numpy.array(apple)\n",
    "\n",
    "\n",
    "for i in range(len(array)):\n",
    "    for j in range(len(array[i])):\n",
    "        if array[i][j][0] > 150:\n",
    "            array[i][j] = [0,min(255,2 * array[i][j][1]),min(255,2 * array[i][j][2]), 255]\n",
    "        array[i][j][0] += random.uniform(-0.1, 0.1)\n",
    "        array[i][j][1] += random.uniform(-0.1, 0.1)\n",
    "        array[i][j][2] += random.uniform(-0.1, 0.1)\n",
    "        array[i][j][3] += random.uniform(-0.1, 0.1)\n",
    "\n",
    "apple2 = Image.fromarray(array)\n",
    "apple2.show()"
   ]
  },
  {
   "cell_type": "code",
   "execution_count": null,
   "metadata": {},
   "outputs": [],
   "source": [
    "\n",
    "horizontalFov = 155\n",
    "verticalFov = 115\n",
    "imageWidth = 272\n",
    "imageHeight = 154\n",
    "focalLength = ((imageHeight / 2) / math.tan(math.pi * (verticalFov / 2) / 180))\n",
    "wallHeight = 10\n",
    "centerOffset = 10\n",
    "cameraOffsetX = 3\n",
    "cameraOffsetY = 10\n",
    "\n",
    "# create blob detectors\n",
    "params = cv2.SimpleBlobDetector_Params()\n",
    "params.filterByArea = True\n",
    "params.minArea = 65\n",
    "params.filterByCircularity = True\n",
    "params.minCircularity = 0.3\n",
    "params.filterByConvexity = True\n",
    "params.minConvexity = 0.7\n",
    "params.filterByInertia = True\n",
    "params.minInertiaRatio = 0\n",
    "blobDetector = cv2.SimpleBlobDetector_create(params)\n",
    "\n",
    "# distance scanner\n",
    "imgSinAngles = []\n",
    "imgCosAngles = []\n",
    "for i in range(imageWidth):\n",
    "    imgSinAngles.append(math.sin(60 - math.atan2((imageWidth / 2) - i, focalLength)))\n",
    "    imgCosAngles.append(math.cos(60 - math.atan2((imageWidth / 2) - i, focalLength)))\n",
    "imgSinAngles = numpy.array(imgSinAngles)\n",
    "imgCosAngles = numpy.array(imgCosAngles)\n",
    "\n",
    "\n",
    "        global redMax, redMin, greenMax, greenMin\n",
    "        # convert to HSV\n",
    "        hsv = cv2.cvtColor(imgIn, cv2.COLOR_BGR2HSV)\n",
    "        # red filter\n",
    "        # red is at 0 and also 180, accounting for HSV wraparound\n",
    "        rMask1 = cv2.inRange(hsv, redMin, redMax)\n",
    "        redMaxH = redMax[0]\n",
    "        redMinList = list(redMin)\n",
    "        redMinList = [180 - redMaxH, redMinList[1], redMinList[2]]\n",
    "        redMin2 = tuple(redMinList)\n",
    "        redMaxList = list(redMax)\n",
    "        redMaxList = [180, redMaxList[1], redMaxList[2]]\n",
    "        redMax2 = tuple(redMaxList)\n",
    "        rMask2 = cv2.inRange(hsv, redMin2, redMax2)\n",
    "        rMask = cv2.bitwise_or(rMask1, rMask2)\n",
    "        # green filter\n",
    "        gMask = cv2.inRange(hsv, greenMin, greenMax)\n",
    "        # blur images to remove noise\n",
    "        blurredR = cv2.medianBlur(rMask, 5)\n",
    "        blurredG = cv2.medianBlur(gMask, 5)\n",
    "        gray_image = cv2.cvtColor(imgIn, cv2.COLOR_RGB2GRAY)\n",
    "        blurredImg = cv2.GaussianBlur(gray_image, (3, 3), 0)\n",
    "        # edge detection\n",
    "        edgesImage = cv2.Canny(blurredImg, 50, 125, 3)\n",
    "        # combine images\n",
    "        return cv2.merge((edgesImage, blurredG, blurredR))\n",
    "    global focalLength, wallHeight, imgAngles\n",
    "\n",
    "    # crop for wall detection, then flip\n",
    "    wallStart = 79\n",
    "    wallEnd = 125\n",
    "    croppedLeft = numpy.swapaxes(numpy.concatenate((leftEdgesIn[wallStart:wallEnd], numpy.full((2, imageWidth), 1, dtype=int)), axis=0), 0, 1)\n",
    "    croppedRight = numpy.swapaxes(numpy.concatenate((rightEdgesIn[wallStart:wallEnd], numpy.full((2, imageWidth), 1, dtype=int)), axis=0), 0, 1)\n",
    "\n",
    "    # get wall heights by finding the bottom edge of the wall\n",
    "    rawHeightsLeft = (croppedLeft != 0).argmax(axis=1)\n",
    "    rawHeightsRight = (croppedRight != 0).argmax(axis=1)\n",
    "    \n",
    "    def rawToCartesian(a, dir):\n",
    "        #need   focal length  fix\n",
    "        # dist = wallHeight * math.sqrt(focalLength**2 + (xcoordinate - center)**2) / a[0]\n",
    "        # return (dir * (3 + a[1] * dist), (10 + a[2] * dist), dist)\n",
    "        dist = wallHeight * focalLength / a[0]\n",
    "        return (dir * (cameraOffsetX + a[1] * dist), (cameraOffsetY + a[2] * dist), dist)\n",
    "\n",
    "    leftCoordinates = numpy.apply_along_axis(rawToCartesian, 1, numpy.stack((rawHeightsLeft, imgSinAngles, imgCosAngles)), -1)\n",
    "    rightCoordinates = numpy.apply_along_axis(rawToCartesian, 1, numpy.stack((rawHeightsRight, imgSinAngles, imgCosAngles)), 1)\n",
    "\n",
    "    return numpy.concatenate((leftCoordinates, rightCoordinates))"
   ]
  },
  {
   "cell_type": "code",
   "execution_count": 21,
   "metadata": {},
   "outputs": [
    {
     "name": "stdout",
     "output_type": "stream",
     "text": [
      "49.05441008217698\n"
     ]
    },
    {
     "data": {
      "text/plain": [
       "32.69685768082119"
      ]
     },
     "execution_count": 21,
     "metadata": {},
     "output_type": "execute_result"
    }
   ],
   "source": [
    "import math\n",
    "\n",
    "horizontalFov = 155\n",
    "verticalFov = 115\n",
    "imageWidth = 272\n",
    "imageHeight = 154\n",
    "focalLength = ((imageHeight / 2) / math.tan(math.pi * (verticalFov / 2) / 180))\n",
    "wallHeight = 10\n",
    "centerOffset = 10\n",
    "dist = wallHeight * math.sqrt(focalLength**2 + (imageWidth / 2 - 29)**2) / 36\n",
    "# return (dir * (3 + a[1] * dist), (10 + a[2] * dist), dist)\n",
    "\n",
    "print(focalLength)\n",
    "dist"
   ]
  }
 ],
 "metadata": {
  "kernelspec": {
   "display_name": "Python 3",
   "language": "python",
   "name": "python3"
  },
  "language_info": {
   "codemirror_mode": {
    "name": "ipython",
    "version": 3
   },
   "file_extension": ".py",
   "mimetype": "text/x-python",
   "name": "python",
   "nbconvert_exporter": "python",
   "pygments_lexer": "ipython3",
   "version": "3.10.5"
  },
  "orig_nbformat": 4
 },
 "nbformat": 4,
 "nbformat_minor": 2
}
