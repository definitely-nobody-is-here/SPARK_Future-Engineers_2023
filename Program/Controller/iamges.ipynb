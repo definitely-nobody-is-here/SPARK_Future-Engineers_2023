{
 "cells": [
  {
   "cell_type": "code",
   "execution_count": null,
   "metadata": {},
   "outputs": [],
   "source": [
    "from PIL import Image\n",
    "import numpy\n",
    "import random\n",
    "import math\n",
    "\n",
    "apple = Image.open(\"banner.png\")\n",
    "array = numpy.array(apple)\n",
    "\n",
    "\n",
    "for i in range(len(array)):\n",
    "    for j in range(len(array[i])):\n",
    "        if array[i][j][0] > 150:\n",
    "            array[i][j] = [0,min(255,2 * array[i][j][1]),min(255,2 * array[i][j][2]), 255]\n",
    "        array[i][j][0] += random.uniform(-0.1, 0.1)\n",
    "        array[i][j][1] += random.uniform(-0.1, 0.1)\n",
    "        array[i][j][2] += random.uniform(-0.1, 0.1)\n",
    "        array[i][j][3] += random.uniform(-0.1, 0.1)\n",
    "\n",
    "apple2 = Image.fromarray(array)\n",
    "apple2.show()"
   ]
  },
  {
   "cell_type": "code",
   "execution_count": 1,
   "metadata": {},
   "outputs": [
    {
     "name": "stdout",
     "output_type": "stream",
     "text": [
      "[] [array([-495.04845887,  503.56983373, -804.32845557,    2.34766153])] [] []\n"
     ]
    },
    {
     "name": "stderr",
     "output_type": "stream",
     "text": [
      "c:\\Users\\guliz\\Documents\\GitHub\\SPARK_Future-Engineers_2023\\Program\\Controller\\converter.py:98: RuntimeWarning: divide by zero encountered in double_scalars\n",
      "  dist = wallHeight * focalLength / a[0]\n",
      "c:\\Users\\guliz\\Documents\\GitHub\\SPARK_Future-Engineers_2023\\Program\\Controller\\converter.py:99: RuntimeWarning: invalid value encountered in double_scalars\n",
      "  x = dir * (cameraOffsetX + a[1] * dist)\n",
      "c:\\Users\\guliz\\Documents\\GitHub\\SPARK_Future-Engineers_2023\\Program\\Controller\\converter.py:100: RuntimeWarning: invalid value encountered in double_scalars\n",
      "  y = (cameraOffsetY + a[2] * dist)\n"
     ]
    }
   ],
   "source": [
    "from PIL import Image\n",
    "import numpy\n",
    "import converter\n",
    "import cv2\n",
    "\n",
    "leftImg, rightImg = numpy.split(numpy.array(Image.open(\"img1.png\")), 2, axis=1)\n",
    "\n",
    "def show(img):\n",
    "    Image.fromarray(img).show()\n",
    "\n",
    "filteredLeftImg = converter.filter(leftImg)\n",
    "leftEdgesImage, gLeftIn, rLeftIn = cv2.split(filteredLeftImg)\n",
    "\n",
    "# show(leftEdgesImage)\n",
    "\n",
    "filteredRightImg = converter.filter(rightImg)\n",
    "rightEdgesImage, gRightIn, rRightIn = cv2.split(filteredRightImg)\n",
    "\n",
    "distances = converter.getDistances(leftEdgesImage, rightEdgesImage)\n",
    "\n",
    "# image = []\n",
    "\n",
    "for i in range(len(distances)):\n",
    "    print(distances[i])\n",
    "    # image.append([distances[i][2], distances[i][2], distances[i][2]])\n",
    "# show(image)\n",
    "# show(numpy.concatenate(([distances], [distances], [distances]), axis=0))\n",
    "rBlobs, gBlobs = converter.getBlobs(rLeftIn, gLeftIn, rRightIn, gRightIn)\n",
    "\n",
    "outerWallLandmarks, innerWallLandmarks, rBlobLandmarks, gBlobLandmarks = converter.getLandmarks(distances, rBlobs, gBlobs)\n",
    "\n",
    "print(outerWallLandmarks, innerWallLandmarks, rBlobLandmarks, gBlobLandmarks)"
   ]
  },
  {
   "cell_type": "code",
   "execution_count": null,
   "metadata": {},
   "outputs": [],
   "source": [
    "import math\n",
    "\n",
    "horizontalFov = 155\n",
    "verticalFov = 115\n",
    "imageWidth = 272\n",
    "imageHeight = 154\n",
    "focalLength = ((imageHeight / 2) / math.tan(math.pi * (verticalFov / 2) / 180))\n",
    "wallHeight = 10\n",
    "centerOffset = 10\n",
    "dist = wallHeight * math.sqrt(focalLength**2 + (imageWidth / 2 - 29)**2) / 36\n",
    "# return (dir * (3 + a[1] * dist), (10 + a[2] * dist), dist)\n",
    "\n",
    "print(focalLength)\n",
    "dist"
   ]
  }
 ],
 "metadata": {
  "kernelspec": {
   "display_name": "Python 3",
   "language": "python",
   "name": "python3"
  },
  "language_info": {
   "codemirror_mode": {
    "name": "ipython",
    "version": 3
   },
   "file_extension": ".py",
   "mimetype": "text/x-python",
   "name": "python",
   "nbconvert_exporter": "python",
   "pygments_lexer": "ipython3",
   "version": "3.10.5"
  },
  "orig_nbformat": 4
 },
 "nbformat": 4,
 "nbformat_minor": 2
}
