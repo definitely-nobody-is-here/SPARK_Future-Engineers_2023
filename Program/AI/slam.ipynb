{
 "cells": [
  {
   "cell_type": "code",
   "execution_count": 20,
   "metadata": {},
   "outputs": [],
   "source": [
    "import numpy\n",
    "import math\n",
    "import scipy\n",
    "from scipy.optimize import least_squares\n",
    "\n",
    "# does EKF SLAM\n",
    "\n",
    "X = 0\n",
    "Y = 1\n",
    "FOUND = 2\n",
    "COLOR = 3\n",
    "RED = 0\n",
    "GREEN = 1\n",
    "landmarks = [\n",
    "    [1000, 5, 1000],\n",
    "    [6, 0, 5],\n",
    "    [0, -5, 5],\n",
    "    [3, 4, 5],\n",
    "    [-5, 3, 5],\n",
    "]\n",
    "\n",
    "lmCarX = 0\n",
    "lmCarY = 0\n",
    "lmCarAngle = 0\n",
    "\n",
    "def positionEquations(guess):\n",
    "    x, y, r = guess\n",
    "    \n",
    "    array = []\n",
    "\n",
    "    for i in range(len(landmarks)):\n",
    "        array.append(math.pow(x - landmarks[i][X], 2) + math.pow(y - landmarks[i][Y], 2) - math.pow(landmarks[i][2], 2))\n",
    "    \n",
    "    return tuple(array)\n",
    "\n",
    "# omg using package\n",
    "# it uses the dead reckoning guess as initial guess\n",
    "initialPositionGuess = (1, 1, 0)\n",
    "\n",
    "# use least squares\n",
    "positionResult = least_squares(positionEquations, initialPositionGuess)\n"
   ]
  },
  {
   "cell_type": "code",
   "execution_count": 21,
   "metadata": {},
   "outputs": [
    {
     "data": {
      "text/plain": [
       "array([387.07707875,   2.2431169 ,   0.        ])"
      ]
     },
     "execution_count": 21,
     "metadata": {},
     "output_type": "execute_result"
    }
   ],
   "source": [
    "positionResult.x"
   ]
  }
 ],
 "metadata": {
  "kernelspec": {
   "display_name": "Python 3",
   "language": "python",
   "name": "python3"
  },
  "language_info": {
   "codemirror_mode": {
    "name": "ipython",
    "version": 3
   },
   "file_extension": ".py",
   "mimetype": "text/x-python",
   "name": "python",
   "nbconvert_exporter": "python",
   "pygments_lexer": "ipython3",
   "version": "3.10.5"
  },
  "orig_nbformat": 4
 },
 "nbformat": 4,
 "nbformat_minor": 2
}
