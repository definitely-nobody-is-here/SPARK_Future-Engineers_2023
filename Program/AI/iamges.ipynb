{
 "cells": [
  {
   "cell_type": "code",
   "execution_count": null,
   "metadata": {},
   "outputs": [],
   "source": [
    "from PIL import Image\n",
    "import numpy\n",
    "import math\n",
    "\n",
    "apple = Image.open(\"apple.png\")\n",
    "array = numpy.array(apple)\n",
    "\n",
    "\n",
    "for i in range(len(array)):\n",
    "    for j in range(len(array[i])):\n",
    "        if array[i][j][0] > 150:\n",
    "            array[i][j] = [0,min(255,10 * array[i][j][1]),min(255,10 * array[i][j][2]),255]\n",
    "\n",
    "apple2 = Image.fromarray(array)\n",
    "apple2.show()"
   ]
  },
  {
   "cell_type": "code",
   "execution_count": 21,
   "metadata": {},
   "outputs": [
    {
     "name": "stdout",
     "output_type": "stream",
     "text": [
      "49.05441008217698\n"
     ]
    },
    {
     "data": {
      "text/plain": [
       "32.69685768082119"
      ]
     },
     "execution_count": 21,
     "metadata": {},
     "output_type": "execute_result"
    }
   ],
   "source": [
    "import math\n",
    "\n",
    "horizontalFov = 155\n",
    "verticalFov = 115\n",
    "imageWidth = 272\n",
    "imageHeight = 154\n",
    "focalLength = ((imageHeight / 2) / math.tan(math.pi * (verticalFov / 2) / 180))\n",
    "wallHeight = 10\n",
    "centerOffset = 10\n",
    "dist = wallHeight * math.sqrt(focalLength**2 + (imageWidth / 2 - 29)**2) / 36\n",
    "        return (dir * (3 + a[1] * dist), (10 + a[2] * dist), dist)\n",
    "\n",
    "print(focalLength)\n",
    "dist"
   ]
  }
 ],
 "metadata": {
  "kernelspec": {
   "display_name": "Python 3",
   "language": "python",
   "name": "python3"
  },
  "language_info": {
   "codemirror_mode": {
    "name": "ipython",
    "version": 3
   },
   "file_extension": ".py",
   "mimetype": "text/x-python",
   "name": "python",
   "nbconvert_exporter": "python",
   "pygments_lexer": "ipython3",
   "version": "3.10.5"
  },
  "orig_nbformat": 4
 },
 "nbformat": 4,
 "nbformat_minor": 2
}
